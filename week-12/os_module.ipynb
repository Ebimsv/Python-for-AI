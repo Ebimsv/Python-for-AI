{
 "cells": [
  {
   "cell_type": "markdown",
   "id": "705442b1",
   "metadata": {},
   "source": [
    "## 🧭 1. Get and Change the Current Working Directory"
   ]
  },
  {
   "cell_type": "code",
   "execution_count": 3,
   "id": "5ecdeeac",
   "metadata": {},
   "outputs": [
    {
     "name": "stdout",
     "output_type": "stream",
     "text": [
      "Current Directory: /home/ebrahim/Mousavi/Projects/Personal_projects/Medium_courses/Python_for_AI/week-12\n",
      "After Change: /home/ebrahim/Mousavi/Projects/Personal_projects/Medium_courses/Python_for_AI/week-12/data\n",
      "Back to Original: /home/ebrahim/Mousavi/Projects/Personal_projects/Medium_courses/Python_for_AI/week-12\n"
     ]
    }
   ],
   "source": [
    "import os\n",
    "\n",
    "# Get the current working directory\n",
    "print(\"Current Directory:\", os.getcwd())\n",
    "\n",
    "# Change to a new directory (e.g., a subfolder)\n",
    "# Make sure this folder exists!\n",
    "os.chdir(\"data\")\n",
    "print(\"After Change:\", os.getcwd())\n",
    "\n",
    "# Go back to the parent directory\n",
    "os.chdir(\"..\")\n",
    "print(\"Back to Original:\", os.getcwd())"
   ]
  },
  {
   "cell_type": "markdown",
   "id": "75ed06ff",
   "metadata": {},
   "source": [
    "## 📂 2. List Files and Identify Files vs Directories"
   ]
  },
  {
   "cell_type": "code",
   "execution_count": 4,
   "id": "07246e00",
   "metadata": {},
   "outputs": [
    {
     "name": "stdout",
     "output_type": "stream",
     "text": [
      "Entries: ['data', 'os_module.ipynb']\n",
      "data is a directory.\n",
      "os_module.ipynb is a file.\n"
     ]
    }
   ],
   "source": [
    "# List all entries in the current directory\n",
    "entries = os.listdir()\n",
    "print(\"Entries:\", entries)\n",
    "\n",
    "# Differentiate between files and directories\n",
    "for entry in entries:\n",
    "    if os.path.isfile(entry):\n",
    "        print(f\"{entry} is a file.\")\n",
    "    elif os.path.isdir(entry):\n",
    "        print(f\"{entry} is a directory.\")\n"
   ]
  },
  {
   "cell_type": "markdown",
   "id": "42358c8b",
   "metadata": {},
   "source": [
    "## 🛠️ 3. Create and Remove Directories"
   ]
  },
  {
   "cell_type": "code",
   "execution_count": 5,
   "id": "72ab4889",
   "metadata": {},
   "outputs": [
    {
     "name": "stdout",
     "output_type": "stream",
     "text": [
      "Created directory: models\n"
     ]
    }
   ],
   "source": [
    "# Create a new directory if it doesn't exist\n",
    "folder_name = \"models\"\n",
    "if not os.path.exists(folder_name):\n",
    "    os.mkdir(folder_name)\n",
    "    print(\"Created directory:\", folder_name)\n",
    "else:\n",
    "    print(\"Directory already exists:\", folder_name)\n",
    "\n",
    "# Remove an empty directory\n",
    "# os.rmdir(folder_name)  # Uncomment carefully!"
   ]
  },
  {
   "cell_type": "markdown",
   "id": "4659bd79",
   "metadata": {},
   "source": [
    "## 📄 4. Create and Delete Files"
   ]
  },
  {
   "cell_type": "code",
   "execution_count": 6,
   "id": "981f560e",
   "metadata": {},
   "outputs": [
    {
     "name": "stdout",
     "output_type": "stream",
     "text": [
      "File deleted.\n"
     ]
    }
   ],
   "source": [
    "# Create a simple text file\n",
    "with open(\"info.txt\", \"w\") as f:\n",
    "    f.write(\"This file contains model information.\\n\")\n",
    "\n",
    "# Delete the file if it exists\n",
    "if os.path.exists(\"info.txt\"):\n",
    "    os.remove(\"info.txt\")\n",
    "    print(\"File deleted.\")\n",
    "else:\n",
    "    print(\"File not found.\")\n"
   ]
  },
  {
   "cell_type": "markdown",
   "id": "14736ca2",
   "metadata": {},
   "source": [
    "## 🔁 5. Rename Files and Directories"
   ]
  },
  {
   "cell_type": "code",
   "execution_count": 7,
   "id": "479b6776",
   "metadata": {},
   "outputs": [
    {
     "name": "stdout",
     "output_type": "stream",
     "text": [
      "File does not exist.\n"
     ]
    }
   ],
   "source": [
    "# Rename a file\n",
    "if os.path.exists(\"old_name.txt\"):\n",
    "    os.rename(\"old_name.txt\", \"new_name.txt\")\n",
    "    print(\"Renamed file.\")\n",
    "else:\n",
    "    print(\"File does not exist.\")"
   ]
  },
  {
   "cell_type": "markdown",
   "id": "3aee0e7a",
   "metadata": {},
   "source": [
    "## 🔗 6. Use os.path.join() and Other os.path Utilities"
   ]
  },
  {
   "cell_type": "code",
   "execution_count": 8,
   "id": "fde338ed",
   "metadata": {},
   "outputs": [
    {
     "name": "stdout",
     "output_type": "stream",
     "text": [
      "Full Path: data/images.csv\n",
      "Absolute Path: /home/ebrahim/Mousavi/Projects/Personal_projects/Medium_courses/Python_for_AI/week-12/data/images.csv\n",
      "Directory Name: data\n",
      "File Name: images.csv\n"
     ]
    }
   ],
   "source": [
    "# Safe path joining\n",
    "base_dir = \"data\"\n",
    "filename = \"images.csv\"\n",
    "full_path = os.path.join(base_dir, filename)\n",
    "print(\"Full Path:\", full_path)\n",
    "\n",
    "# Other utilities\n",
    "print(\"Absolute Path:\", os.path.abspath(full_path))\n",
    "print(\"Directory Name:\", os.path.dirname(full_path))\n",
    "print(\"File Name:\", os.path.basename(full_path))\n"
   ]
  },
  {
   "cell_type": "markdown",
   "id": "2a493ca6",
   "metadata": {},
   "source": [
    "## 🤖 AI-Focused Practical Example 1: Prepare Dataset Folder"
   ]
  },
  {
   "cell_type": "code",
   "execution_count": 10,
   "id": "a936426d",
   "metadata": {},
   "outputs": [
    {
     "name": "stdout",
     "output_type": "stream",
     "text": [
      "Created dataset directory: processed_dataset\n",
      "All sample files created.\n"
     ]
    }
   ],
   "source": [
    "# Setup folder for preprocessed data\n",
    "dataset_dir = \"processed_dataset\"\n",
    "\n",
    "if not os.path.exists(dataset_dir):\n",
    "    os.mkdir(dataset_dir)\n",
    "    print(f\"Created dataset directory: {dataset_dir}\")\n",
    "\n",
    "# Let's say we want to save 3 files into this folder\n",
    "for i in range(3):\n",
    "    file_path = os.path.join(dataset_dir, f\"sample_{i}.txt\")\n",
    "    with open(file_path, \"w\") as f:\n",
    "        f.write(f\"This is sample file {i}.\")\n",
    "print(\"All sample files created.\")"
   ]
  },
  {
   "cell_type": "markdown",
   "id": "7c8e4f44",
   "metadata": {},
   "source": [
    "## 📸 AI-Focused Practical Example 2: Rename Image Files"
   ]
  },
  {
   "cell_type": "code",
   "execution_count": null,
   "id": "4f06d1c7",
   "metadata": {},
   "outputs": [
    {
     "name": "stdout",
     "output_type": "stream",
     "text": [
      "Image folder not found.\n"
     ]
    }
   ],
   "source": [
    "# Rename all image files in a folder to follow a naming pattern\n",
    "image_folder = \"images\"\n",
    "prefix = \"cat\"\n",
    "\n",
    "if os.path.exists(image_folder):\n",
    "    for idx, file_name in enumerate(os.listdir(image_folder)):\n",
    "        full_path = os.path.join(image_folder, file_name)\n",
    "        if os.path.isfile(full_path) and file_name.endswith(\".jpg\"):\n",
    "            new_name = f\"{prefix}_{idx}.jpg\"\n",
    "            os.rename(full_path, os.path.join(image_folder, new_name))\n",
    "    print(\"Image files renamed.\")\n",
    "else:\n",
    "    print(\"Image folder not found.\")"
   ]
  },
  {
   "cell_type": "code",
   "execution_count": null,
   "id": "a57d3ec5",
   "metadata": {},
   "outputs": [],
   "source": []
  }
 ],
 "metadata": {
  "kernelspec": {
   "display_name": "pytorch27",
   "language": "python",
   "name": "python3"
  },
  "language_info": {
   "codemirror_mode": {
    "name": "ipython",
    "version": 3
   },
   "file_extension": ".py",
   "mimetype": "text/x-python",
   "name": "python",
   "nbconvert_exporter": "python",
   "pygments_lexer": "ipython3",
   "version": "3.10.16"
  }
 },
 "nbformat": 4,
 "nbformat_minor": 5
}
