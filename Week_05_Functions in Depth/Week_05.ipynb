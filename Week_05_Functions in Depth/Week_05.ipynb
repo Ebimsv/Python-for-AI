{
 "cells": [
  {
   "cell_type": "markdown",
   "id": "d5e9d5b7",
   "metadata": {},
   "source": [
    "# 1. Introduction to Functions"
   ]
  },
  {
   "cell_type": "code",
   "execution_count": 1,
   "id": "39e319ef",
   "metadata": {},
   "outputs": [
    {
     "name": "stdout",
     "output_type": "stream",
     "text": [
      "Hello, Ebrahim!\n"
     ]
    }
   ],
   "source": [
    "def greet(name):\n",
    "    return f\"Hello, {name}!\"\n",
    "\n",
    "print(greet(\"Ebrahim\"))"
   ]
  },
  {
   "cell_type": "markdown",
   "id": "6712273f",
   "metadata": {},
   "source": [
    "# 2. Defining Functions"
   ]
  },
  {
   "cell_type": "code",
   "execution_count": 2,
   "id": "4ea1bbd2",
   "metadata": {},
   "outputs": [
    {
     "name": "stdout",
     "output_type": "stream",
     "text": [
      "Sum: 8\n"
     ]
    }
   ],
   "source": [
    "def add(a, b):\n",
    "    \"\"\"This function adds two numbers.\"\"\"\n",
    "    return a + b\n",
    "\n",
    "result = add(5, 3)\n",
    "print(\"Sum:\", result)  "
   ]
  },
  {
   "cell_type": "markdown",
   "id": "2b6fadd0",
   "metadata": {},
   "source": [
    "# 3. Function Parameters and Arguments\n",
    "In Python, parameters are the variables listed in the function definition, while an argument is the value sent to the function when it is called.  \n",
    "This distinction is crucial for understanding how functions operate.\n",
    "\n",
    "For instance, let’s define another function that calculates the area of a rectangle.   \n",
    "It takes two parameters: length and width.\n"
   ]
  },
  {
   "cell_type": "code",
   "execution_count": 3,
   "id": "6a0a66b4",
   "metadata": {},
   "outputs": [],
   "source": [
    "def calculate_area(length, width):  \n",
    "    return length * width"
   ]
  },
  {
   "cell_type": "markdown",
   "id": "d53f0610",
   "metadata": {},
   "source": [
    "Here, length and width are parameters of the calculate_area function.   \n",
    "When calling this function, you can provide specific values (arguments) for these parameters:"
   ]
  },
  {
   "cell_type": "code",
   "execution_count": 4,
   "id": "1c16c43c",
   "metadata": {},
   "outputs": [
    {
     "name": "stdout",
     "output_type": "stream",
     "text": [
      "15\n"
     ]
    }
   ],
   "source": [
    "area = calculate_area(5, 3)  \n",
    "print(area)  "
   ]
  },
  {
   "cell_type": "markdown",
   "id": "52519496",
   "metadata": {},
   "source": [
    "## Different Types of Parameter Syntax\n",
    "### I. Positional Parameters:"
   ]
  },
  {
   "cell_type": "code",
   "execution_count": 6,
   "id": "a7524389",
   "metadata": {},
   "outputs": [
    {
     "name": "stdout",
     "output_type": "stream",
     "text": [
      "15\n"
     ]
    }
   ],
   "source": [
    "def multiply(x, y):  \n",
    "    return x * y  \n",
    "\n",
    "# Calling the function  \n",
    "result = multiply(3, 5) \n",
    "print(result)"
   ]
  },
  {
   "cell_type": "markdown",
   "id": "9769234d",
   "metadata": {},
   "source": [
    "### II. Default Parameters:"
   ]
  },
  {
   "cell_type": "code",
   "execution_count": 7,
   "id": "deb9a696",
   "metadata": {},
   "outputs": [
    {
     "name": "stdout",
     "output_type": "stream",
     "text": [
      "Hello, Ebrahim!\n",
      "Welcome, Ela!\n"
     ]
    }
   ],
   "source": [
    "def greet(name, greeting=\"Hello\"):  \n",
    "    print(f\"{greeting}, {name}!\")  \n",
    "\n",
    "# Using default parameter  \n",
    "greet(\"Ebrahim\")    \n",
    "greet(\"Ela\", \"Welcome\")"
   ]
  },
  {
   "cell_type": "markdown",
   "id": "807aa8be",
   "metadata": {},
   "source": [
    "### III. Keyword Parameters:"
   ]
  },
  {
   "cell_type": "code",
   "execution_count": 8,
   "id": "a4bc3d69",
   "metadata": {},
   "outputs": [
    {
     "name": "stdout",
     "output_type": "stream",
     "text": [
      "Name: Ebi, Age: 34\n"
     ]
    }
   ],
   "source": [
    "def display_info(name, age):  \n",
    "    print(f\"Name: {name}, Age: {age}\")  \n",
    "\n",
    "# Calling with keyword arguments  \n",
    "display_info(age=34, name=\"Ebi\")"
   ]
  },
  {
   "cell_type": "markdown",
   "id": "44bb0179",
   "metadata": {},
   "source": [
    "### IV. Variable-Length Parameters:\n",
    "\n",
    "Use *args to allow a function to accept any number of positional arguments, and **kwargs for any number of keyword arguments.\n",
    "\n",
    "- Using `*args`:"
   ]
  },
  {
   "cell_type": "code",
   "execution_count": 10,
   "id": "94ca0f91",
   "metadata": {},
   "outputs": [
    {
     "name": "stdout",
     "output_type": "stream",
     "text": [
      "15\n"
     ]
    }
   ],
   "source": [
    "def sum_numbers(*args):  \n",
    "    return sum(args)  \n",
    "\n",
    "# Calling with multiple arguments  \n",
    "total = sum_numbers(1, 2, 3, 4, 5)\n",
    "print(total)"
   ]
  },
  {
   "cell_type": "markdown",
   "id": "2d10f99e",
   "metadata": {},
   "source": [
    "- Using `**kwargs`:"
   ]
  },
  {
   "cell_type": "code",
   "execution_count": 11,
   "id": "363dab46",
   "metadata": {},
   "outputs": [
    {
     "name": "stdout",
     "output_type": "stream",
     "text": [
      "name: Ebi\n",
      "age: 34\n",
      "course: AI\n"
     ]
    }
   ],
   "source": [
    "def print_student_info(**kwargs):  \n",
    "    for key, value in kwargs.items():  \n",
    "        print(f\"{key}: {value}\")  \n",
    "\n",
    "# Calling with variable keyword arguments  \n",
    "print_student_info(name=\"Ebi\", age=34, course=\"AI\")  "
   ]
  },
  {
   "cell_type": "markdown",
   "id": "aeb014ab",
   "metadata": {},
   "source": [
    "### V. Combining Different Types:"
   ]
  },
  {
   "cell_type": "code",
   "execution_count": 12,
   "id": "13c0a598",
   "metadata": {},
   "outputs": [
    {
     "name": "stdout",
     "output_type": "stream",
     "text": [
      "a: 1, b: 3, args: (5, 6), c: 7, kwargs: {'name': 'Ebi'}\n"
     ]
    }
   ],
   "source": [
    "def mixed_arguments(a, b=2, *args, c=4, **kwargs):  \n",
    "    print(f\"a: {a}, b: {b}, args: {args}, c: {c}, kwargs: {kwargs}\")  \n",
    "\n",
    "# Example call  \n",
    "mixed_arguments(1, 3, 5, 6, c=7, name=\"Ebi\")  "
   ]
  },
  {
   "cell_type": "markdown",
   "id": "c3cdcb22",
   "metadata": {},
   "source": [
    "## Different Types of Argument Syntax\n",
    "### I. Positional Arguments:\n",
    "\n",
    "\n"
   ]
  },
  {
   "cell_type": "code",
   "execution_count": 14,
   "id": "d17ce1ef",
   "metadata": {},
   "outputs": [
    {
     "name": "stdout",
     "output_type": "stream",
     "text": [
      "5.0\n"
     ]
    }
   ],
   "source": [
    "def divide(x, y):  \n",
    "    return x / y  \n",
    "\n",
    "# Positional arguments  \n",
    "result = divide(10, 2) \n",
    "print(result)"
   ]
  },
  {
   "cell_type": "markdown",
   "id": "d4fe5a39",
   "metadata": {},
   "source": [
    "#### II. Keyword Arguments:"
   ]
  },
  {
   "cell_type": "code",
   "execution_count": 15,
   "id": "6f29b128",
   "metadata": {},
   "outputs": [
    {
     "name": "stdout",
     "output_type": "stream",
     "text": [
      "Name: Ervin, Age: 30\n"
     ]
    }
   ],
   "source": [
    "def display_info(name, age):  \n",
    "    print(f\"Name: {name}, Age: {age}\")  \n",
    "\n",
    "# Keyword arguments  \n",
    "display_info(age=30, name=\"Ervin\")"
   ]
  },
  {
   "cell_type": "markdown",
   "id": "ec3d0b81",
   "metadata": {},
   "source": [
    "### III. Default Arguments:"
   ]
  },
  {
   "cell_type": "code",
   "execution_count": null,
   "id": "b5f6fbea",
   "metadata": {},
   "outputs": [
    {
     "name": "stdout",
     "output_type": "stream",
     "text": [
      "Hello, my name is Ebi and I’m from Iran.\n",
      "Hello, my name is Caterine and I’m from Canada.\n"
     ]
    }
   ],
   "source": [
    "def introduce(name, country=\"Iran\"):  \n",
    "    print(f\"Hello, my name is {name} and I’m from {country}.\")  \n",
    "\n",
    "# Calling with and without default  \n",
    "introduce(\"Ebi\")  # Output: Hello, my name is Ebi and I’m from Iran.  \n",
    "introduce(\"Caterine\", \"Canada\")"
   ]
  },
  {
   "cell_type": "markdown",
   "id": "0e5a4dec",
   "metadata": {},
   "source": [
    "### IV. Variable-Length Arguments:\n",
    "You can pass a varying number of arguments using *args for positional arguments and **kwargs for keyword arguments.\n",
    "\n",
    "- Using `*args`:"
   ]
  },
  {
   "cell_type": "code",
   "execution_count": 17,
   "id": "2425fad0",
   "metadata": {},
   "outputs": [
    {
     "name": "stdout",
     "output_type": "stream",
     "text": [
      "Hello world from Medium\n"
     ]
    }
   ],
   "source": [
    "def concatenate(*args):  \n",
    "    return ' '.join(args)  \n",
    "\n",
    "# Variable-length positional arguments  \n",
    "result = concatenate(\"Hello\", \"world\", \"from\", \"Medium\")  \n",
    "print(result) "
   ]
  },
  {
   "cell_type": "markdown",
   "id": "b8ea4acb",
   "metadata": {},
   "source": [
    "- Using `**kwargs`:"
   ]
  },
  {
   "cell_type": "code",
   "execution_count": 18,
   "id": "47b2f6a8",
   "metadata": {},
   "outputs": [
    {
     "name": "stdout",
     "output_type": "stream",
     "text": [
      "title: Chess\n",
      "players: 2\n",
      "duration: 30 min\n"
     ]
    }
   ],
   "source": [
    "def print_game_info(**kwargs):  \n",
    "    for key, value in kwargs.items():  \n",
    "        print(f\"{key}: {value}\")  \n",
    "\n",
    "# Variable-length keyword arguments  \n",
    "print_game_info(title=\"Chess\", players=2, duration=\"30 min\") "
   ]
  },
  {
   "cell_type": "markdown",
   "id": "f9adac6e",
   "metadata": {},
   "source": [
    "### V. Combining Arguments:\n",
    "\n",
    "You can mix positional arguments, keyword arguments, and variable-length arguments in one function call."
   ]
  },
  {
   "cell_type": "code",
   "execution_count": 19,
   "id": "49ecac38",
   "metadata": {},
   "outputs": [
    {
     "name": "stdout",
     "output_type": "stream",
     "text": [
      "a: 1, b: 5, args: (8,), c: 3, kwargs: {'name': 'Ebi', 'age': 34}\n"
     ]
    }
   ],
   "source": [
    "def complete_info(a, b=2, *args, c=10, **kwargs):  \n",
    "    print(f\"a: {a}, b: {b}, args: {args}, c: {c}, kwargs: {kwargs}\")  \n",
    "\n",
    "# Example call  \n",
    "complete_info(1, 5, 8, c=3, name=\"Ebi\", age=34)  "
   ]
  },
  {
   "cell_type": "markdown",
   "id": "5eb9a7f7",
   "metadata": {},
   "source": [
    "# 4. Scope in Functions\n",
    "## What is Scope?\n",
    "Scope refers to the region of a program where a variable can be accessed. \n",
    "\n",
    "### 1. Local Scope: \n",
    "Variables defined within a function are in the local scope. They can only be accessed from within that function. For example:"
   ]
  },
  {
   "cell_type": "code",
   "execution_count": 20,
   "id": "a53ef9ac",
   "metadata": {},
   "outputs": [
    {
     "name": "stdout",
     "output_type": "stream",
     "text": [
      "10\n"
     ]
    }
   ],
   "source": [
    "def local_scope_example():  \n",
    "    x = 10  # x is a local variable  \n",
    "    print(x)  \n",
    "\n",
    "local_scope_example()"
   ]
  },
  {
   "cell_type": "markdown",
   "id": "3bd8c69e",
   "metadata": {},
   "source": [
    "### 2. Global Scope:  \n",
    "Variables defined outside of any function are in the global scope and can be accessed from anywhere in the code, including inside functions, unless shadowed by local variables. For instance:"
   ]
  },
  {
   "cell_type": "code",
   "execution_count": 21,
   "id": "b9d5e559",
   "metadata": {},
   "outputs": [
    {
     "name": "stdout",
     "output_type": "stream",
     "text": [
      "20\n"
     ]
    }
   ],
   "source": [
    "y = 20  # y is a global variable  \n",
    "\n",
    "def global_scope_example():  \n",
    "    print(y)  # Accessing global variable y  \n",
    "global_scope_example()"
   ]
  },
  {
   "cell_type": "markdown",
   "id": "0040ff60",
   "metadata": {},
   "source": [
    "### Modifying Global Variables  \n",
    "However, if you want to modify a global variable inside a function, you need to declare it as global:"
   ]
  },
  {
   "cell_type": "code",
   "execution_count": 22,
   "id": "92ce0399",
   "metadata": {},
   "outputs": [
    {
     "name": "stdout",
     "output_type": "stream",
     "text": [
      "1\n"
     ]
    }
   ],
   "source": [
    "counter = 0\n",
    "\n",
    "def increment():\n",
    "    global counter\n",
    "    counter += 1\n",
    "\n",
    "increment()\n",
    "print(counter)  "
   ]
  },
  {
   "cell_type": "markdown",
   "id": "361a0b55",
   "metadata": {},
   "source": [
    "## Examples for different scopes:"
   ]
  },
  {
   "cell_type": "code",
   "execution_count": 23,
   "id": "d40a8ae9",
   "metadata": {},
   "outputs": [
    {
     "name": "stdout",
     "output_type": "stream",
     "text": [
      "local variable\n",
      "enclosing variable\n",
      "global variable\n"
     ]
    }
   ],
   "source": [
    "x = \"global variable\"\n",
    "\n",
    "def outer_function():\n",
    "    x = \"enclosing variable\"\n",
    "    \n",
    "    def inner_function():\n",
    "        x = \"local variable\"\n",
    "        print(x)  # Prints \"local variable\"\n",
    "    \n",
    "    inner_function()\n",
    "    print(x)  # Prints \"enclosing variable\"\n",
    "\n",
    "outer_function()\n",
    "print(x)"
   ]
  },
  {
   "cell_type": "markdown",
   "id": "43e91de4",
   "metadata": {},
   "source": [
    "- Best Practice:  \n",
    "Avoid excessive use of global variables to maintain function purity and prevent unintended side effects."
   ]
  },
  {
   "cell_type": "markdown",
   "id": "0821f71d",
   "metadata": {},
   "source": [
    "# 5. Function Annotations  \n",
    "Annotations provide hints about the expected input types and return type of a function."
   ]
  },
  {
   "cell_type": "code",
   "execution_count": 24,
   "id": "1a5a068f",
   "metadata": {},
   "outputs": [
    {
     "name": "stdout",
     "output_type": "stream",
     "text": [
      "7\n"
     ]
    }
   ],
   "source": [
    "def add(a: int, b: int) -> int:\n",
    "    \"\"\"Adds two integers.\"\"\"\n",
    "    return a + b\n",
    "\n",
    "print(add(3, 4))"
   ]
  },
  {
   "cell_type": "markdown",
   "id": "1c9e6a83",
   "metadata": {},
   "source": [
    "# 6. Lambda Functions\n",
    "Lambda functions are concise, anonymous functions. They are ideal for short operations like sorting or filtering."
   ]
  },
  {
   "cell_type": "code",
   "execution_count": 25,
   "id": "b8e626af",
   "metadata": {},
   "outputs": [
    {
     "name": "stdout",
     "output_type": "stream",
     "text": [
      "25\n",
      "[1, 4, 9, 16]\n"
     ]
    }
   ],
   "source": [
    "square = lambda x: x ** 2\n",
    "print(square(5))  # Output: 25\n",
    "\n",
    "numbers = [1, 2, 3, 4]\n",
    "squared_numbers = list(map(lambda x: x ** 2, numbers))\n",
    "print(squared_numbers)"
   ]
  },
  {
   "cell_type": "markdown",
   "id": "6ae747f5",
   "metadata": {},
   "source": [
    "# 7. Closures and Nested Functions\n",
    "## Nested Functions\n",
    "A function inside another function is called a nested function."
   ]
  },
  {
   "cell_type": "code",
   "execution_count": 26,
   "id": "f67e53e4",
   "metadata": {},
   "outputs": [
    {
     "name": "stdout",
     "output_type": "stream",
     "text": [
      "Inner says: Hello!\n"
     ]
    }
   ],
   "source": [
    "def outer_function(msg):\n",
    "    def inner_function():\n",
    "        return f\"Inner says: {msg}\"\n",
    "    return inner_function()\n",
    "\n",
    "print(outer_function(\"Hello!\"))"
   ]
  },
  {
   "cell_type": "markdown",
   "id": "0182abc7",
   "metadata": {},
   "source": [
    "## Closures  \n",
    "Closures capture variables from their enclosing scope, even after the enclosing function has finished execution."
   ]
  },
  {
   "cell_type": "code",
   "execution_count": 27,
   "id": "121ed05b",
   "metadata": {},
   "outputs": [
    {
     "name": "stdout",
     "output_type": "stream",
     "text": [
      "10\n"
     ]
    }
   ],
   "source": [
    "def multiplier(factor):\n",
    "    def multiply_by(number):\n",
    "        return number * factor\n",
    "    return multiply_by\n",
    "\n",
    "double = multiplier(2)\n",
    "print(double(5))"
   ]
  },
  {
   "cell_type": "markdown",
   "id": "d1ad265f",
   "metadata": {},
   "source": [
    "# 8. Decorators\n",
    "\n",
    "Decorators are higher-order functions that modify or extend the behavior of another function."
   ]
  },
  {
   "cell_type": "code",
   "execution_count": 28,
   "id": "264f6a49",
   "metadata": {},
   "outputs": [
    {
     "name": "stdout",
     "output_type": "stream",
     "text": [
      "Calling multiply with (3, 5) and {}\n",
      "15\n"
     ]
    }
   ],
   "source": [
    "def logger(func):\n",
    "    \"\"\"Logs the function call.\"\"\"\n",
    "    def wrapper(*args, **kwargs):\n",
    "        print(f\"Calling {func.__name__} with {args} and {kwargs}\")\n",
    "        return func(*args, **kwargs)\n",
    "    return wrapper\n",
    "\n",
    "@logger\n",
    "def multiply(a, b):\n",
    "    return a * b\n",
    "\n",
    "print(multiply(3, 5))"
   ]
  },
  {
   "cell_type": "code",
   "execution_count": null,
   "id": "a76ff78e",
   "metadata": {},
   "outputs": [],
   "source": []
  }
 ],
 "metadata": {
  "kernelspec": {
   "display_name": "llms",
   "language": "python",
   "name": "python3"
  },
  "language_info": {
   "codemirror_mode": {
    "name": "ipython",
    "version": 3
   },
   "file_extension": ".py",
   "mimetype": "text/x-python",
   "name": "python",
   "nbconvert_exporter": "python",
   "pygments_lexer": "ipython3",
   "version": "3.11.13"
  }
 },
 "nbformat": 4,
 "nbformat_minor": 5
}
