{
 "cells": [
  {
   "cell_type": "markdown",
   "id": "66061479",
   "metadata": {},
   "source": [
    "## Basic Python Syntax and Structure (Hello World Example)\n"
   ]
  },
  {
   "cell_type": "code",
   "execution_count": 1,
   "id": "87a031a8",
   "metadata": {},
   "outputs": [
    {
     "name": "stdout",
     "output_type": "stream",
     "text": [
      "Hello, World!\n"
     ]
    }
   ],
   "source": [
    "print(\"Hello, World!\")"
   ]
  },
  {
   "cell_type": "markdown",
   "id": "77cdf5e7",
   "metadata": {},
   "source": [
    "### Defining and Using Variables"
   ]
  },
  {
   "cell_type": "code",
   "execution_count": 3,
   "id": "8c0abdbc",
   "metadata": {},
   "outputs": [
    {
     "name": "stdout",
     "output_type": "stream",
     "text": [
      "Welcome to Python!\n"
     ]
    }
   ],
   "source": [
    "message = \"Welcome to Python!\"\n",
    "print(message)"
   ]
  },
  {
   "cell_type": "markdown",
   "id": "cebf949e",
   "metadata": {},
   "source": [
    "### Variable Types and Scope"
   ]
  },
  {
   "cell_type": "code",
   "execution_count": 4,
   "id": "5ed28f81",
   "metadata": {},
   "outputs": [],
   "source": [
    "age = 34              # Integer\n",
    "price = 19.99         # Float\n",
    "name = \"Ebi\"          # String\n",
    "is_student = True     # Boolean"
   ]
  },
  {
   "cell_type": "code",
   "execution_count": null,
   "id": "aa4f9079",
   "metadata": {},
   "outputs": [],
   "source": []
  }
 ],
 "metadata": {
  "kernelspec": {
   "display_name": "pytorch27",
   "language": "python",
   "name": "python3"
  },
  "language_info": {
   "codemirror_mode": {
    "name": "ipython",
    "version": 3
   },
   "file_extension": ".py",
   "mimetype": "text/x-python",
   "name": "python",
   "nbconvert_exporter": "python",
   "pygments_lexer": "ipython3",
   "version": "3.10.16"
  }
 },
 "nbformat": 4,
 "nbformat_minor": 5
}
