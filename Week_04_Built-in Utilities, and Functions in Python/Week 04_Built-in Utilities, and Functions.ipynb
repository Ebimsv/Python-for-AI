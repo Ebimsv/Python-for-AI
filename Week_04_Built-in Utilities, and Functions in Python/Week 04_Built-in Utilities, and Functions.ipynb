{
 "cells": [
  {
   "cell_type": "markdown",
   "id": "19115738",
   "metadata": {},
   "source": [
    "# 1. Numeric Functions"
   ]
  },
  {
   "cell_type": "markdown",
   "id": "d633be9a",
   "metadata": {},
   "source": [
    "## I. abs(x)\n",
    "- Returns the absolute value of a number."
   ]
  },
  {
   "cell_type": "code",
   "execution_count": 1,
   "id": "e4c4dcc6",
   "metadata": {},
   "outputs": [
    {
     "name": "stdout",
     "output_type": "stream",
     "text": [
      "10\n",
      "3.14\n"
     ]
    }
   ],
   "source": [
    "print(abs(-10))   # Output: 10\n",
    "print(abs(3.14))  # Output: 3.14"
   ]
  },
  {
   "cell_type": "markdown",
   "id": "188d7555",
   "metadata": {},
   "source": [
    "## II. pow(x, y)\n",
    "- Raises x to the power of y\n"
   ]
  },
  {
   "cell_type": "code",
   "execution_count": 2,
   "id": "3e273350",
   "metadata": {},
   "outputs": [
    {
     "name": "stdout",
     "output_type": "stream",
     "text": [
      "8\n",
      "0.04\n"
     ]
    }
   ],
   "source": [
    "print(pow(2, 3))   # Output: 8\n",
    "print(pow(5, -2))  # Output: 0.04"
   ]
  },
  {
   "cell_type": "markdown",
   "id": "e9eefb1f",
   "metadata": {},
   "source": [
    "## III. round(number[, ndigits])\n",
    "- Rounds a number to a specified number of decimal places.\n",
    "\n"
   ]
  },
  {
   "cell_type": "code",
   "execution_count": 3,
   "id": "7a16f315",
   "metadata": {},
   "outputs": [
    {
     "name": "stdout",
     "output_type": "stream",
     "text": [
      "3.14\n",
      "8\n"
     ]
    }
   ],
   "source": [
    "print(round(3.14159, 2))  # Output: 3.14\n",
    "print(round(7.5))         # Output: 8"
   ]
  },
  {
   "cell_type": "markdown",
   "id": "17f72af4",
   "metadata": {},
   "source": [
    "# 2. Sequence Functions\n"
   ]
  },
  {
   "cell_type": "markdown",
   "id": "732094f4",
   "metadata": {},
   "source": [
    "## I. len(s)\n",
    "- Returns the length of an object (string, list, tuple, etc.)."
   ]
  },
  {
   "cell_type": "code",
   "execution_count": 4,
   "id": "476275c8",
   "metadata": {},
   "outputs": [
    {
     "name": "stdout",
     "output_type": "stream",
     "text": [
      "6\n",
      "4\n"
     ]
    }
   ],
   "source": [
    "print(len(\"Python\"))      # Output: 6\n",
    "print(len([1, 2, 3, 4]))  # Output: 4"
   ]
  },
  {
   "cell_type": "markdown",
   "id": "edb199d1",
   "metadata": {},
   "source": [
    "## II. min(iterable)\n",
    "\n",
    "- Returns the smallest item in an iterable.\n"
   ]
  },
  {
   "cell_type": "code",
   "execution_count": 5,
   "id": "4c0b5800",
   "metadata": {},
   "outputs": [
    {
     "name": "stdout",
     "output_type": "stream",
     "text": [
      "1\n",
      "e\n"
     ]
    }
   ],
   "source": [
    "print(min([3, 1, 4, 1, 5]))  # Output: 1\n",
    "print(min(\"hello\"))          # Output: 'e'"
   ]
  },
  {
   "cell_type": "markdown",
   "id": "7ffa1e52",
   "metadata": {},
   "source": [
    "## III. max(iterable)\n",
    "- Returns the largest item in an iterable.\n",
    "\n",
    "\n"
   ]
  },
  {
   "cell_type": "code",
   "execution_count": 6,
   "id": "62abfb97",
   "metadata": {},
   "outputs": [
    {
     "name": "stdout",
     "output_type": "stream",
     "text": [
      "5\n",
      "o\n"
     ]
    }
   ],
   "source": [
    "print(max([3, 1, 4, 1, 5]))  # Output: 5\n",
    "print(max(\"hello\"))          # Output: 'o'"
   ]
  },
  {
   "cell_type": "markdown",
   "id": "b4f063c9",
   "metadata": {},
   "source": [
    "## IV. sum(iterable[, start])\n",
    "- Sums items of an iterable, starting from an optional start value."
   ]
  },
  {
   "cell_type": "code",
   "execution_count": 7,
   "id": "89d52cc1",
   "metadata": {},
   "outputs": [
    {
     "name": "stdout",
     "output_type": "stream",
     "text": [
      "10\n",
      "16\n"
     ]
    }
   ],
   "source": [
    "print(sum([1, 2, 3, 4]))         # Output: 10\n",
    "print(sum([1, 2, 3], start=10))  # Output: 16"
   ]
  },
  {
   "cell_type": "markdown",
   "id": "08faeefa",
   "metadata": {},
   "source": [
    "# 3. Type Conversion Functions"
   ]
  },
  {
   "cell_type": "markdown",
   "id": "7b40517a",
   "metadata": {},
   "source": [
    "## I. int(x [, base])\n",
    "\n",
    "- Converts a number or string to an integer."
   ]
  },
  {
   "cell_type": "code",
   "execution_count": 8,
   "id": "794a0cc2",
   "metadata": {},
   "outputs": [
    {
     "name": "stdout",
     "output_type": "stream",
     "text": [
      "3\n",
      "5\n"
     ]
    }
   ],
   "source": [
    "print(int(3.9))         # Output: 3\n",
    "print(int(\"101\", 2))    # Output: 5"
   ]
  },
  {
   "cell_type": "markdown",
   "id": "8e527712",
   "metadata": {},
   "source": [
    "## II. float(x)\n",
    "- Converts a number or string to a floating-point number.\n"
   ]
  },
  {
   "cell_type": "code",
   "execution_count": 9,
   "id": "6ef12a6d",
   "metadata": {},
   "outputs": [
    {
     "name": "stdout",
     "output_type": "stream",
     "text": [
      "3.0\n",
      "3.14\n"
     ]
    }
   ],
   "source": [
    "print(float(3))        # Output: 3.0\n",
    "print(float(\"3.14\"))   # Output: 3.14"
   ]
  },
  {
   "cell_type": "markdown",
   "id": "2acd029a",
   "metadata": {},
   "source": [
    "## III. str(object)\n",
    "- Converts an object to a string.\n"
   ]
  },
  {
   "cell_type": "code",
   "execution_count": 10,
   "id": "0e4add38",
   "metadata": {},
   "outputs": [
    {
     "name": "stdout",
     "output_type": "stream",
     "text": [
      "100\n",
      "[1, 2, 3]\n"
     ]
    }
   ],
   "source": [
    "print(str(100))        # Output: '100'\n",
    "print(str([1, 2, 3]))  # Output: '[1, 2, 3]'"
   ]
  },
  {
   "cell_type": "markdown",
   "id": "ba4a902d",
   "metadata": {},
   "source": [
    "# 4. Collection Functions\n"
   ]
  },
  {
   "cell_type": "markdown",
   "id": "a72010d2",
   "metadata": {},
   "source": [
    "## I. list([iterable])\n",
    "- Converts an iterable to a list."
   ]
  },
  {
   "cell_type": "code",
   "execution_count": 11,
   "id": "671ee351",
   "metadata": {},
   "outputs": [
    {
     "name": "stdout",
     "output_type": "stream",
     "text": [
      "['h', 'e', 'l', 'l', 'o']\n"
     ]
    }
   ],
   "source": [
    "print(list(\"hello\"))  \n",
    "# Output: ['h', 'e', 'l', 'l', 'o']"
   ]
  },
  {
   "cell_type": "markdown",
   "id": "71d397aa",
   "metadata": {},
   "source": [
    "## II. tuple([iterable])\n",
    "\n",
    "- Converts an iterable to a tuple.\n"
   ]
  },
  {
   "cell_type": "markdown",
   "id": "e88c7bb6",
   "metadata": {},
   "source": [
    "## III. set([iterable])\n",
    "- Converts an iterable to a set (removes duplicates).\n"
   ]
  },
  {
   "cell_type": "markdown",
   "id": "684c9234",
   "metadata": {},
   "source": [
    "## IV. dict([mapping])\n",
    "\n",
    "- Creates a dictionary from a sequence of key-value pairs.\n"
   ]
  },
  {
   "cell_type": "code",
   "execution_count": 12,
   "id": "53c6bfa8",
   "metadata": {},
   "outputs": [
    {
     "name": "stdout",
     "output_type": "stream",
     "text": [
      "{'a': 1, 'b': 2}\n"
     ]
    }
   ],
   "source": [
    "print(dict([(\"a\", 1), (\"b\", 2)]))  \n",
    "# Output: {'a': 1, 'b': 2}"
   ]
  },
  {
   "cell_type": "markdown",
   "id": "57379b0f",
   "metadata": {},
   "source": [
    "# 5. Boolean Functions\n"
   ]
  },
  {
   "cell_type": "markdown",
   "id": "f19ae088",
   "metadata": {},
   "source": [
    "## I. bool([x])\n",
    "- Converts a value to a Boolean."
   ]
  },
  {
   "cell_type": "code",
   "execution_count": 13,
   "id": "5b2275d8",
   "metadata": {},
   "outputs": [
    {
     "name": "stdout",
     "output_type": "stream",
     "text": [
      "True\n",
      "False\n",
      "False\n"
     ]
    }
   ],
   "source": [
    "print(bool(1))         # Output: True\n",
    "print(bool(0))         # Output: False\n",
    "print(bool([]))        # Output: False"
   ]
  },
  {
   "cell_type": "markdown",
   "id": "485a1a8e",
   "metadata": {},
   "source": [
    "# 6. Input/Output Functions\n"
   ]
  },
  {
   "cell_type": "markdown",
   "id": "b20f6a61",
   "metadata": {},
   "source": [
    "## I. print(*objects, sep=' ', end='\\n', file=sys.stdout, flush=False)\n",
    "\n"
   ]
  },
  {
   "cell_type": "code",
   "execution_count": 14,
   "id": "0f84762f",
   "metadata": {},
   "outputs": [
    {
     "name": "stdout",
     "output_type": "stream",
     "text": [
      "Hello-World!\n"
     ]
    }
   ],
   "source": [
    "print(\"Hello\", \"World\", sep=\"-\", end=\"!\\n\")  \n",
    "# Output: Hello-World!"
   ]
  },
  {
   "cell_type": "markdown",
   "id": "76c3a319",
   "metadata": {},
   "source": [
    "## II. input([prompt])"
   ]
  },
  {
   "cell_type": "code",
   "execution_count": 15,
   "id": "674689f7",
   "metadata": {},
   "outputs": [
    {
     "name": "stdout",
     "output_type": "stream",
     "text": [
      "Hello, ebi!\n"
     ]
    }
   ],
   "source": [
    "name = input(\"What is your name? \")\n",
    "print(f\"Hello, {name}!\")"
   ]
  },
  {
   "cell_type": "markdown",
   "id": "95f56f84",
   "metadata": {},
   "source": [
    "# 7. Object Functions"
   ]
  },
  {
   "cell_type": "markdown",
   "id": "bb2ff942",
   "metadata": {},
   "source": [
    "## I. type(object)"
   ]
  },
  {
   "cell_type": "code",
   "execution_count": 16,
   "id": "6b8652c5",
   "metadata": {},
   "outputs": [
    {
     "name": "stdout",
     "output_type": "stream",
     "text": [
      "<class 'int'>\n",
      "<class 'list'>\n"
     ]
    }
   ],
   "source": [
    "print(type(42))       # Output: <class 'int'>\n",
    "print(type([1, 2]))   # Output: <class 'list'>"
   ]
  },
  {
   "cell_type": "markdown",
   "id": "52d63f4c",
   "metadata": {},
   "source": [
    "## II. isinstance(object, classinfo)\n",
    "- Checks if an object is an instance or subclass of a specified class or tuple of classes, returning True or False."
   ]
  },
  {
   "cell_type": "code",
   "execution_count": 17,
   "id": "3cc73823",
   "metadata": {},
   "outputs": [
    {
     "name": "stdout",
     "output_type": "stream",
     "text": [
      "True\n",
      "False\n"
     ]
    }
   ],
   "source": [
    "print(isinstance(42, int))       # Output: True\n",
    "print(isinstance(42, str))       # Output: False"
   ]
  },
  {
   "cell_type": "markdown",
   "id": "5fcb5264",
   "metadata": {},
   "source": [
    "## III. id(object)\n",
    "- The id() function returns a unique integer identifier for an object in Python, which corresponds to the object's memory address."
   ]
  },
  {
   "cell_type": "markdown",
   "id": "ffd18f8a",
   "metadata": {},
   "source": [
    "### When id() Returns the Same Value:"
   ]
  },
  {
   "cell_type": "markdown",
   "id": "1cac0b95",
   "metadata": {},
   "source": [
    "#### 1. Immutable Objects:   \n",
    "For immutable objects like integers, strings, and tuples, if multiple variables are assigned the same value, they often reference the same object:"
   ]
  },
  {
   "cell_type": "code",
   "execution_count": 20,
   "id": "6e6735ea",
   "metadata": {},
   "outputs": [
    {
     "name": "stdout",
     "output_type": "stream",
     "text": [
      "True\n"
     ]
    }
   ],
   "source": [
    "x = 10  \n",
    "y = 10  \n",
    "print(id(x) == id(y))  # True"
   ]
  },
  {
   "cell_type": "markdown",
   "id": "438edc38",
   "metadata": {},
   "source": [
    "#### 2. Integer Caching:   \n",
    "Python caches small integers (typically from -5 to 256). When multiple variables are assigned the same small integer, they share the same memory location:"
   ]
  },
  {
   "cell_type": "code",
   "execution_count": 19,
   "id": "4b67ac17",
   "metadata": {},
   "outputs": [
    {
     "name": "stdout",
     "output_type": "stream",
     "text": [
      "True\n"
     ]
    }
   ],
   "source": [
    "a = 256  \n",
    "b = 256  \n",
    "print(id(a) == id(b))  # True"
   ]
  },
  {
   "cell_type": "markdown",
   "id": "e3d5437a",
   "metadata": {},
   "source": [
    "### When id() Returns Different Values:"
   ]
  },
  {
   "cell_type": "markdown",
   "id": "d24f3c03",
   "metadata": {},
   "source": [
    "#### 1. Different Objects: \n",
    "If variables point to different objects, even if the values are the same, their id() values will differ:"
   ]
  },
  {
   "cell_type": "code",
   "execution_count": 21,
   "id": "aefa5f4b",
   "metadata": {},
   "outputs": [
    {
     "name": "stdout",
     "output_type": "stream",
     "text": [
      "False\n"
     ]
    }
   ],
   "source": [
    "list1 = [1, 2, 3]  \n",
    "list2 = [1, 2, 3]  \n",
    "print(id(list1) == id(list2))  # False"
   ]
  },
  {
   "cell_type": "markdown",
   "id": "cc215751",
   "metadata": {},
   "source": [
    "# 8. Miscellaneous Functions\n"
   ]
  },
  {
   "cell_type": "markdown",
   "id": "0428f3a0",
   "metadata": {},
   "source": [
    "## I. help([obj])\n",
    "- Invokes the built-in help system, providing documentation and usage information for the specified object or topic."
   ]
  },
  {
   "cell_type": "code",
   "execution_count": 22,
   "id": "65ab254a",
   "metadata": {},
   "outputs": [
    {
     "name": "stdout",
     "output_type": "stream",
     "text": [
      "Help on built-in function sum in module builtins:\n",
      "\n",
      "sum(iterable, /, start=0)\n",
      "    Return the sum of a 'start' value (default: 0) plus an iterable of numbers\n",
      "    \n",
      "    When the iterable is empty, return the start value.\n",
      "    This function is intended specifically for use with numeric values and may\n",
      "    reject non-numeric types.\n",
      "\n"
     ]
    }
   ],
   "source": [
    "help(sum)"
   ]
  },
  {
   "cell_type": "markdown",
   "id": "a4659a09",
   "metadata": {},
   "source": [
    "## II. dir([object])\n",
    "- Attempts to return a list of valid attributes for an object, useful for introspection of objects and modules."
   ]
  },
  {
   "cell_type": "code",
   "execution_count": 24,
   "id": "75523b57",
   "metadata": {},
   "outputs": [
    {
     "name": "stdout",
     "output_type": "stream",
     "text": [
      "['__add__', '__class__', '__class_getitem__', '__contains__', '__delattr__', '__delitem__', '__dir__', '__doc__', '__eq__', '__format__', '__ge__', '__getattribute__', '__getitem__', '__getstate__', '__gt__', '__hash__', '__iadd__', '__imul__', '__init__', '__init_subclass__', '__iter__', '__le__', '__len__', '__lt__', '__mul__', '__ne__', '__new__', '__reduce__', '__reduce_ex__', '__repr__', '__reversed__', '__rmul__', '__setattr__', '__setitem__', '__sizeof__', '__str__', '__subclasshook__', 'append', 'clear', 'copy', 'count', 'extend', 'index', 'insert', 'pop', 'remove', 'reverse', 'sort']\n"
     ]
    }
   ],
   "source": [
    "print(dir([]))  "
   ]
  },
  {
   "cell_type": "markdown",
   "id": "2aea97eb",
   "metadata": {},
   "source": [
    "## III. eval(expression)\n",
    "- Evaluates a string expression as Python code and returns the result, allowing for dynamic execution of Python expressions."
   ]
  },
  {
   "cell_type": "code",
   "execution_count": 25,
   "id": "c8fd8783",
   "metadata": {},
   "outputs": [
    {
     "name": "stdout",
     "output_type": "stream",
     "text": [
      "8\n"
     ]
    }
   ],
   "source": [
    "print(eval(\"3 + 5\"))  \n",
    "# Output: 8"
   ]
  },
  {
   "cell_type": "markdown",
   "id": "5d579975",
   "metadata": {},
   "source": [
    "## IV. exec(object)\n",
    "- It executes the Python code contained in the provided string or code object, allowing for dynamic code execution, but it should generally be used with caution to avoid security risks."
   ]
  },
  {
   "cell_type": "code",
   "execution_count": 26,
   "id": "4a1cfb4a",
   "metadata": {},
   "outputs": [
    {
     "name": "stdout",
     "output_type": "stream",
     "text": [
      "5\n"
     ]
    }
   ],
   "source": [
    "exec(\"x = 5\\nprint(x)\") "
   ]
  },
  {
   "cell_type": "markdown",
   "id": "903dde38",
   "metadata": {},
   "source": [
    "# 9. Functional Programming Functions\n",
    "`iter()`, `next()`, and `cycle()`\n",
    "\n",
    "In Python, iterables are objects that you can loop over, such as lists, strings, tuples, dictionaries, and sets. An iterator is an object that produces values one at a time from an iterable, enabling iteration.\n",
    "\n",
    "- Iterable: An object with an `__iter__()` method that returns an iterator.\n",
    "- Iterator: An object with a `__next__()` method that returns the next value or raises StopIteration when exhausted."
   ]
  },
  {
   "cell_type": "markdown",
   "id": "665dfab7",
   "metadata": {},
   "source": [
    "## Checking if an Object is Iterable or an Iterator\n",
    "You can determine whether an object is iterable or an iterator by checking for specific methods:"
   ]
  },
  {
   "cell_type": "markdown",
   "id": "7826da33",
   "metadata": {},
   "source": [
    "### To check if an object is iterable, you can use "
   ]
  },
  {
   "cell_type": "code",
   "execution_count": 31,
   "id": "aee30dc6",
   "metadata": {},
   "outputs": [
    {
     "name": "stdout",
     "output_type": "stream",
     "text": [
      "True\n",
      "True\n"
     ]
    }
   ],
   "source": [
    "# Check if an object is iterable\n",
    "import collections\n",
    "\n",
    "# Method 1:\n",
    "print(isinstance([1, 2, 3], collections.abc.Iterable)) \n",
    "\n",
    "# Method 2:\n",
    "print('__iter__' in dir([1, 2, 3]))   # True"
   ]
  },
  {
   "cell_type": "markdown",
   "id": "b848f709",
   "metadata": {},
   "source": [
    "### To check if an object is an iterator, use "
   ]
  },
  {
   "cell_type": "code",
   "execution_count": 33,
   "id": "317b86ec",
   "metadata": {},
   "outputs": [
    {
     "name": "stdout",
     "output_type": "stream",
     "text": [
      "False\n",
      "True\n"
     ]
    }
   ],
   "source": [
    "# Check if an object is an iterator\n",
    "\n",
    "# Method 1:\n",
    "print(isinstance([1, 2, 3], collections.abc.Iterator))\n",
    "\n",
    "# Method 2:\n",
    "print('__next__' in dir(iter([1, 2, 3])))  # True"
   ]
  },
  {
   "cell_type": "markdown",
   "id": "176d8244",
   "metadata": {},
   "source": [
    "### Converting an Iterable to an Iterator"
   ]
  },
  {
   "cell_type": "code",
   "execution_count": 34,
   "id": "3af12d36",
   "metadata": {},
   "outputs": [],
   "source": [
    "my_list = [1, 2, 3]\n",
    "iterator = iter(my_list)"
   ]
  },
  {
   "cell_type": "markdown",
   "id": "d05dd350",
   "metadata": {},
   "source": [
    "### Handling End of Iteration: StopIteration\n",
    "\n",
    "When calling `next()` on an iterator, if there are no more items to return, Python raises a StopIteration exception.   \n",
    "You need to handle this exception to prevent your program from crashing:"
   ]
  },
  {
   "cell_type": "code",
   "execution_count": null,
   "id": "2f873b08",
   "metadata": {},
   "outputs": [
    {
     "name": "stdout",
     "output_type": "stream",
     "text": [
      "10\n",
      "20\n",
      "30\n",
      "Reached the end of the iterator.\n"
     ]
    }
   ],
   "source": [
    "my_iterator = iter([10, 20, 30])\n",
    "\n",
    "while True:\n",
    "    try:\n",
    "        item = next(my_iterator)\n",
    "        print(item)\n",
    "    except StopIteration:\n",
    "        print(\"Reached the end of the iterator.\")\n",
    "        break"
   ]
  },
  {
   "cell_type": "markdown",
   "id": "78a63897",
   "metadata": {},
   "source": [
    "### The for Loop and Automatic Conversion to Iterator\n",
    "Using a for loop in Python automatically converts the iterable into an iterator behind the scenes, handling StopIteration internally:"
   ]
  },
  {
   "cell_type": "code",
   "execution_count": 36,
   "id": "54c811d5",
   "metadata": {},
   "outputs": [
    {
     "name": "stdout",
     "output_type": "stream",
     "text": [
      "1\n",
      "2\n",
      "3\n"
     ]
    }
   ],
   "source": [
    "for num in [1, 2, 3]:\n",
    "    print(num)"
   ]
  },
  {
   "cell_type": "markdown",
   "id": "23f108d4",
   "metadata": {},
   "source": [
    "- This is internally similar to:"
   ]
  },
  {
   "cell_type": "code",
   "execution_count": 37,
   "id": "594bc2ef",
   "metadata": {},
   "outputs": [
    {
     "name": "stdout",
     "output_type": "stream",
     "text": [
      "1\n",
      "2\n",
      "3\n"
     ]
    }
   ],
   "source": [
    "iterator = iter([1, 2, 3])\n",
    "while True:\n",
    "    try:\n",
    "        num = next(iterator)\n",
    "        print(num)\n",
    "    except StopIteration:\n",
    "        break"
   ]
  },
  {
   "cell_type": "markdown",
   "id": "a5027e05",
   "metadata": {},
   "source": [
    "### Using cycle() from itertools\n",
    "The `cycle()` function from the itertools module creates an infinite iterator that repeatedly cycles through an iterable.   \n",
    "It's especially useful when you need to endlessly loop over a sequence, such as in training loops or data augmentation processes."
   ]
  },
  {
   "cell_type": "code",
   "execution_count": 39,
   "id": "1a295df4",
   "metadata": {},
   "outputs": [
    {
     "name": "stdout",
     "output_type": "stream",
     "text": [
      "Hello, how are you?\n",
      "What is AI?\n",
      "Tell me a joke!\n",
      "Hello, how are you?\n",
      "What is AI?\n",
      "Tell me a joke!\n"
     ]
    }
   ],
   "source": [
    "import itertools\n",
    "\n",
    "# Example: Cycling through model prompts or tokens\n",
    "prompts = ['Hello, how are you?', 'What is AI?', 'Tell me a joke!']\n",
    "prompt_cycle = itertools.cycle(prompts)\n",
    "\n",
    "for _ in range(6):\n",
    "    print(next(prompt_cycle))"
   ]
  },
  {
   "cell_type": "markdown",
   "id": "f819f982",
   "metadata": {},
   "source": [
    "## II. map()\n",
    "- The map() function applies a specified function to every item in an iterable (like a list or a tuple) and returns an iterator of the results.\n",
    "- It is useful for transforming data efficiently without the need for explicit loops.\n",
    "- Syntax: `map(function, iterable, ...)`"
   ]
  },
  {
   "cell_type": "markdown",
   "id": "028a3bf2",
   "metadata": {},
   "source": [
    "### Example: \n",
    "Imagine you have a list of prices (in dollars) and you want to convert them to cents. Here are four different ways to do it."
   ]
  },
  {
   "cell_type": "markdown",
   "id": "e5812578",
   "metadata": {},
   "source": [
    "#### 1. Without map (Using a For Loop)"
   ]
  },
  {
   "cell_type": "code",
   "execution_count": 40,
   "id": "6f336386",
   "metadata": {},
   "outputs": [
    {
     "name": "stdout",
     "output_type": "stream",
     "text": [
      "[1099, 550, 375, 2000]\n"
     ]
    }
   ],
   "source": [
    "prices_in_dollars = [10.99, 5.50, 3.75, 20.00]\n",
    "\n",
    "# Function to convert dollars to cents  \n",
    "def dollars_to_cents(price):  \n",
    "    return int(price * 100)  \n",
    "\n",
    "# Using a for loop to apply the function to each price  \n",
    "prices_in_cents = []  \n",
    "for price in prices_in_dollars:  \n",
    "    cents = dollars_to_cents(price)  \n",
    "    prices_in_cents.append(cents)  \n",
    "\n",
    "print(prices_in_cents)"
   ]
  },
  {
   "cell_type": "markdown",
   "id": "cf68dca9",
   "metadata": {},
   "source": [
    "#### 2. With map and a Function (Without Lambda)"
   ]
  },
  {
   "cell_type": "code",
   "execution_count": 41,
   "id": "c6547f29",
   "metadata": {},
   "outputs": [
    {
     "name": "stdout",
     "output_type": "stream",
     "text": [
      "[1099, 550, 375, 2000]\n"
     ]
    }
   ],
   "source": [
    "prices_in_dollars = [10.99, 5.50, 3.75, 20.00]\n",
    "\n",
    "# Function to convert dollars to cents  \n",
    "def dollars_to_cents(price):  \n",
    "    return int(price * 100)  \n",
    "\n",
    "# Using map to apply the function to each price  \n",
    "prices_in_cents = list(map(dollars_to_cents, prices_in_dollars))  \n",
    "\n",
    "print(prices_in_cents)"
   ]
  },
  {
   "cell_type": "markdown",
   "id": "5d10af84",
   "metadata": {},
   "source": [
    "#### 3. With map and a Lambda Function"
   ]
  },
  {
   "cell_type": "code",
   "execution_count": 42,
   "id": "22a3b7ba",
   "metadata": {},
   "outputs": [
    {
     "name": "stdout",
     "output_type": "stream",
     "text": [
      "[1099, 550, 375, 2000]\n"
     ]
    }
   ],
   "source": [
    "# List of prices in dollars  \n",
    "prices_in_dollars = [10.99, 5.50, 3.75, 20.00]  \n",
    "\n",
    "# Using map with a lambda function \n",
    "prices_in_cents = list(map(lambda price: int(price * 100), prices_in_dollars))  \n",
    "\n",
    "print(prices_in_cents)"
   ]
  },
  {
   "cell_type": "markdown",
   "id": "5fa0090d",
   "metadata": {},
   "source": [
    "#### 4. List Comprehension"
   ]
  },
  {
   "cell_type": "code",
   "execution_count": 43,
   "id": "d8e7d889",
   "metadata": {},
   "outputs": [
    {
     "name": "stdout",
     "output_type": "stream",
     "text": [
      "[1099, 550, 375, 2000]\n"
     ]
    }
   ],
   "source": [
    "prices_in_dollars = [10.99, 5.50, 3.75, 20.00]  \n",
    "\n",
    "# Using list comprehension with a lambda function \n",
    "prices_in_cents = [(lambda price: int(price * 100))(price) for price in prices_in_dollars]  \n",
    "\n",
    "print(prices_in_cents)"
   ]
  },
  {
   "cell_type": "markdown",
   "id": "1a9f88b1",
   "metadata": {},
   "source": [
    "## III. filter()\n",
    "- The filter() function constructs an iterator from those elements of an iterable for which a specified function returns True.\n",
    "- It's ideal for filtering out unwanted items based on a condition.\n",
    "- Syntax: `filter(function, iterable)`"
   ]
  },
  {
   "cell_type": "markdown",
   "id": "f6cbc223",
   "metadata": {},
   "source": [
    "### Example: \n",
    "Suppose you have a list of numbers and you want to extract only the even numbers. Here are four different ways to extract even numbers from a list in Python."
   ]
  },
  {
   "cell_type": "markdown",
   "id": "722e4fc7",
   "metadata": {},
   "source": [
    "#### 1. Using a For Loop"
   ]
  },
  {
   "cell_type": "code",
   "execution_count": 44,
   "id": "97211d0f",
   "metadata": {},
   "outputs": [
    {
     "name": "stdout",
     "output_type": "stream",
     "text": [
      "[2, 4, 6, 8, 10]\n"
     ]
    }
   ],
   "source": [
    "numbers = [1, 2, 3, 4, 5, 6, 7, 8, 9, 10]  \n",
    "\n",
    "# Using a for loop to extract even numbers  \n",
    "even_numbers = []  \n",
    "for num in numbers:  \n",
    "    if num % 2 == 0:  \n",
    "        even_numbers.append(num)  \n",
    "\n",
    "print(even_numbers)"
   ]
  },
  {
   "cell_type": "markdown",
   "id": "3e11fdbc",
   "metadata": {},
   "source": [
    "#### 2. Without a For Loop (Using filter and a Function)\n",
    "- Separates the functionality into a defined function using filter"
   ]
  },
  {
   "cell_type": "code",
   "execution_count": 45,
   "id": "664f2d14",
   "metadata": {},
   "outputs": [
    {
     "name": "stdout",
     "output_type": "stream",
     "text": [
      "[2, 4, 6, 8, 10]\n"
     ]
    }
   ],
   "source": [
    "numbers = [1, 2, 3, 4, 5, 6, 7, 8, 9, 10]\n",
    "\n",
    "# Function to check if a number is even  \n",
    "def is_even(num):  \n",
    "    return num % 2 == 0  \n",
    "\n",
    "# Using filter to extract even numbers  \n",
    "even_numbers = list(filter(is_even, numbers))  \n",
    "\n",
    "print(even_numbers)"
   ]
  },
  {
   "cell_type": "markdown",
   "id": "76304a75",
   "metadata": {},
   "source": [
    "#### 3. Using filter with a Lambda Function"
   ]
  },
  {
   "cell_type": "code",
   "execution_count": 46,
   "id": "48864ccd",
   "metadata": {},
   "outputs": [
    {
     "name": "stdout",
     "output_type": "stream",
     "text": [
      "[2, 4, 6, 8, 10]\n"
     ]
    }
   ],
   "source": [
    "numbers = [1, 2, 3, 4, 5, 6, 7, 8, 9, 10]\n",
    "\n",
    "# Using filter with a lambda function \n",
    "even_numbers = list(filter(lambda num: num % 2 == 0, numbers))  \n",
    "\n",
    "print(even_numbers)"
   ]
  },
  {
   "cell_type": "markdown",
   "id": "f3016288",
   "metadata": {},
   "source": [
    "#### 4. List Comprehension with a Lambda Function"
   ]
  },
  {
   "cell_type": "code",
   "execution_count": 47,
   "id": "ba9c192c",
   "metadata": {},
   "outputs": [
    {
     "name": "stdout",
     "output_type": "stream",
     "text": [
      "[2, 4, 6, 8, 10]\n"
     ]
    }
   ],
   "source": [
    "numbers = [1, 2, 3, 4, 5, 6, 7, 8, 9, 10]\n",
    "\n",
    "# Using list comprehension with a lambda function \n",
    "even_numbers = [num for num in numbers if (lambda x: x % 2 == 0)(num)]  \n",
    "\n",
    "print(even_numbers)"
   ]
  },
  {
   "cell_type": "markdown",
   "id": "4af6889a",
   "metadata": {},
   "source": [
    "## Combining map() and filter()\n",
    "Both `map()` and `filter()` can be combined for powerful data processing.   \n",
    "For example, if you want to first filter even numbers and then square each of them, you could do:"
   ]
  },
  {
   "cell_type": "code",
   "execution_count": 48,
   "id": "a383ad0a",
   "metadata": {},
   "outputs": [
    {
     "name": "stdout",
     "output_type": "stream",
     "text": [
      "[4, 16, 36, 64, 100]\n"
     ]
    }
   ],
   "source": [
    "numbers = [1, 2, 3, 4, 5, 6, 7, 8, 9, 10]\n",
    "  \n",
    "def is_even(num):  \n",
    "    return num % 2 == 0\n",
    "\n",
    "squared_evens = list(map(lambda x: x**2, filter(is_even, numbers)))  \n",
    "print(squared_evens)"
   ]
  },
  {
   "cell_type": "markdown",
   "id": "05f5bcc0",
   "metadata": {},
   "source": [
    "## IV. reduce()\n",
    "The `reduce()` function in Python is a powerful tool for performing cumulative operations on a sequence (like a list) by applying a specified function to its items in a successive manner.   \n",
    "It is part of the `functools` module, meaning you'll need to import it before using it.  \n",
    " \n",
    "The `reduce()` function takes two arguments:\n",
    "- I. A function that takes two arguments and returns a single value.\n",
    "- II. An iterable (like a list or tuple).\n",
    "\n",
    "It then applies the function cumulatively to the items of the iterable, effectively reducing the iterable to a single value.\n",
    "\n",
    "**Syntax**: \n",
    "```python\n",
    "from functools import reduce  \n",
    "result = reduce(function, iterable, [initializer])\n",
    "```\n",
    "\n",
    "- function: The function to apply to the iterable's items.\n",
    "- iterable: The sequence you want to process.\n",
    "- initializer (optional): A value that is used as the initial accumulator."
   ]
  },
  {
   "cell_type": "markdown",
   "id": "e39140e2",
   "metadata": {},
   "source": [
    "### Example: Summing Numbers"
   ]
  },
  {
   "cell_type": "code",
   "execution_count": 49,
   "id": "6b24fcfb",
   "metadata": {},
   "outputs": [
    {
     "name": "stdout",
     "output_type": "stream",
     "text": [
      "15\n"
     ]
    }
   ],
   "source": [
    "from functools import reduce  \n",
    "\n",
    "numbers = [1, 2, 3, 4, 5]  \n",
    "\n",
    "# Function to add two numbers  \n",
    "def add(x, y):  \n",
    "    return x + y  \n",
    "\n",
    "# Using reduce to sum the numbers  \n",
    "total = reduce(add, numbers)  \n",
    "\n",
    "print(total)"
   ]
  },
  {
   "cell_type": "markdown",
   "id": "04b63f84",
   "metadata": {},
   "source": [
    "### Example: Using `lambda` with `reduce()`\n",
    "Using a lambda function can make the code more concise. Here's how you can achieve the same summing and multiplying using lambda:"
   ]
  },
  {
   "cell_type": "code",
   "execution_count": 50,
   "id": "db7344b9",
   "metadata": {},
   "outputs": [
    {
     "name": "stdout",
     "output_type": "stream",
     "text": [
      "15\n",
      "120\n"
     ]
    }
   ],
   "source": [
    "from functools import reduce  \n",
    "\n",
    "# List of numbers  \n",
    "numbers = [1, 2, 3, 4, 5]  \n",
    "\n",
    "# Using reduce with a lambda to sum the numbers  \n",
    "total = reduce(lambda x,y: x+y, numbers)  \n",
    "print(total)  \n",
    "# Output: 15  \n",
    "\n",
    "# Using reduce with a lambda to find the product of the numbers  \n",
    "product = reduce(lambda x,y: x*y, numbers)  \n",
    "print(product)"
   ]
  },
  {
   "cell_type": "markdown",
   "id": "e9c6b76a",
   "metadata": {},
   "source": [
    "## V. zip(*iterables)\n",
    "The `zip()` function in Python is used to combine multiple iterable objects (like lists or tuples) into tuples, where each tuple contains elements from the corresponding positions of the input iterables.   \n",
    "The asterisk (`*`) operator can be used to unpack an iterable of iterables, effectively transposing the data.   \n",
    "This operation is particularly useful in scenarios where you need to pair elements from different lists or reorganize data structures."
   ]
  },
  {
   "cell_type": "code",
   "execution_count": 51,
   "id": "6d453cbf",
   "metadata": {},
   "outputs": [
    {
     "name": "stdout",
     "output_type": "stream",
     "text": [
      "Combined: [('Ebi', 85), ('Cyrus', 92), ('Charlie', 78)]\n",
      "Unzipped: [('Ebi', 'Cyrus', 'Charlie'), (85, 92, 78)]\n",
      "Names: ('Ebi', 'Cyrus', 'Charlie')\n",
      "Scores: (85, 92, 78)\n"
     ]
    }
   ],
   "source": [
    "names = ['Ebi', 'Cyrus', 'Charlie']  \n",
    "scores = [85, 92, 78]  \n",
    "\n",
    "# Using zip to combine lists into tuples  \n",
    "combined = list(zip(names, scores))  \n",
    "print(\"Combined:\", combined)  \n",
    "\n",
    "# Using zip with unpacking to transpose the combined data  \n",
    "unzipped = list(zip(*combined))  \n",
    "print(\"Unzipped:\", unzipped)  \n",
    "\n",
    "# Accessing individual components  \n",
    "unzipped_names, unzipped_scores = unzipped  \n",
    "print(\"Names:\", unzipped_names)  \n",
    "print(\"Scores:\", unzipped_scores)  "
   ]
  },
  {
   "cell_type": "markdown",
   "id": "ff391320",
   "metadata": {},
   "source": [
    "# 10. Representation Functions"
   ]
  },
  {
   "cell_type": "markdown",
   "id": "fddbea14",
   "metadata": {},
   "source": [
    "## I. format(value[, format_spec])"
   ]
  },
  {
   "cell_type": "code",
   "execution_count": 52,
   "id": "efccbfda",
   "metadata": {},
   "outputs": [
    {
     "name": "stdout",
     "output_type": "stream",
     "text": [
      "3.14\n"
     ]
    }
   ],
   "source": [
    "print(format(3.14159, \".2f\"))"
   ]
  },
  {
   "cell_type": "markdown",
   "id": "6eb3b36e",
   "metadata": {},
   "source": [
    "## II. repr(object)\n",
    "- The `__repr__` method in Python is designed to provide an unambiguous string representation of an object that can ideally be used to recreate the object using the `eval()` function.   \n",
    "It's extremely useful for debugging because it shows the internal state of an object clearly.\n",
    "- This function can be especially useful when debugging or logging information, as it gives insight into data types and values.\n",
    "- **Syntax**: repr(object)"
   ]
  },
  {
   "cell_type": "markdown",
   "id": "34d197bc",
   "metadata": {},
   "source": [
    "### Example: Book Class\n",
    "Let's create a simple Book class to illustrate the usage of __repr__, and we'll also touch on __eq__ to show how we can compare book objects based on their attributes."
   ]
  },
  {
   "cell_type": "markdown",
   "id": "523c16d0",
   "metadata": {},
   "source": [
    "#### Step 1: Define the Book Class"
   ]
  },
  {
   "cell_type": "code",
   "execution_count": 53,
   "id": "c9cdbca0",
   "metadata": {},
   "outputs": [],
   "source": [
    "class Book:  \n",
    "    def __init__(self, title, author, isbn):  \n",
    "        self.title = title  \n",
    "        self.author = author  \n",
    "        self.isbn = isbn  \n",
    "\n",
    "    def __repr__(self):  \n",
    "        return f\"Book(title={self.title!r}, author={self.author!r}, isbn={self.isbn!r})\"  \n",
    "\n",
    "    def __eq__(self, other):  \n",
    "        if isinstance(other, Book):  \n",
    "            # Consider books equal if they have the same ISBN\n",
    "            return self.isbn == other.isbn  \n",
    "        return False"
   ]
  },
  {
   "cell_type": "markdown",
   "id": "54a27d41",
   "metadata": {},
   "source": [
    "#### Step 2: Explanation of the Code"
   ]
  },
  {
   "cell_type": "markdown",
   "id": "deababff",
   "metadata": {},
   "source": [
    "**Attributes:**\n",
    "- title: The title of the book.\n",
    "- author: The author of the book.\n",
    "- isbn: The ISBN of the book, which is unique.\n",
    "\n",
    "**`__repr__` Method:**\n",
    "This method returns a string that looks like a call to create the Book object.   \n",
    "The use of !r ensures that the values are represented in a way suitable for `eval()`, providing a clear way to display the object.\n",
    "\n",
    "**`__eq__` Method:**\n",
    "This method checks for equality based on the isbn attribute.  \n",
    "If two books have the same ISBN, they are considered equal."
   ]
  },
  {
   "cell_type": "markdown",
   "id": "0f39080f",
   "metadata": {},
   "source": [
    "#### Step 3: Using the Book Class\n",
    "Let's create some book instances and see how `__repr__` and `__eq__` work in practice."
   ]
  },
  {
   "cell_type": "code",
   "execution_count": null,
   "id": "60950f15",
   "metadata": {},
   "outputs": [],
   "source": [
    "# Create two book objects  \n",
    "book1 = Book(\"1984\", \"George Orwell\", \"978-0451524935\")  \n",
    "book2 = Book(\"Nineteen Eighty-Four\", \"George Orwell\", \"978-0451524935\")  # Same ISBN  \n",
    "book3 = Book(\"Brave New World\", \"Aldous Huxley\", \"978-0060850524\")  \n",
    "\n",
    "# Use repr to get the string representation  \n",
    "print(repr(book1))  \n",
    "# Output: Book(title='1984', author='George Orwell', isbn='978-0451524935')  \n",
    "\n",
    "# Check if books are equal  \n",
    "print(book1 == book2)  \n",
    "# Output: True, because they have the same ISBN  \n",
    "\n",
    "print(book1 == book3)  \n",
    "# Output: False, because their ISBNs are different  \n",
    "\n",
    "# Showing that repr can recreate the object  \n",
    "book_recreated = eval(repr(book1))  \n",
    "\n",
    "print(book_recreated)  \n",
    "# Output: Book(title='1984', author='George Orwell', isbn='978-0451524935')  \n",
    "\n",
    "print(book_recreated == book1)  \n",
    "# Output: True, recreated object is equal to the original"
   ]
  }
 ],
 "metadata": {
  "kernelspec": {
   "display_name": "llms",
   "language": "python",
   "name": "python3"
  },
  "language_info": {
   "codemirror_mode": {
    "name": "ipython",
    "version": 3
   },
   "file_extension": ".py",
   "mimetype": "text/x-python",
   "name": "python",
   "nbconvert_exporter": "python",
   "pygments_lexer": "ipython3",
   "version": "3.11.13"
  }
 },
 "nbformat": 4,
 "nbformat_minor": 5
}
