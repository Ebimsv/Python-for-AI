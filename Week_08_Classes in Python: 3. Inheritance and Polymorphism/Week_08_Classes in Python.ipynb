{
 "cells": [
  {
   "cell_type": "markdown",
   "id": "ccb3ad0f",
   "metadata": {},
   "source": [
    "# Python for AI: Week 8-Classes in Python: 3. Inheritance and Polymorphism"
   ]
  },
  {
   "cell_type": "markdown",
   "id": "3b591164",
   "metadata": {},
   "source": [
    "## Creating a Subclass\n",
    "\n",
    "To create a subclass, you define a new class and specify the base class in parentheses."
   ]
  },
  {
   "cell_type": "code",
   "execution_count": 1,
   "id": "34f80d9f",
   "metadata": {},
   "outputs": [],
   "source": [
    "class Animal:\n",
    "    def __init__(self, name):\n",
    "        self.name = name\n",
    "\n",
    "    def speak(self):\n",
    "        pass  # Abstract method\n",
    "\n",
    "class Dog(Animal):\n",
    "    def speak(self):\n",
    "        return f\"{self.name} says Woof!\"\n",
    "\n",
    "class Cat(Animal):\n",
    "    def speak(self):\n",
    "        return f\"{self.name} says Meow!\""
   ]
  },
  {
   "cell_type": "markdown",
   "id": "fb83cbc1",
   "metadata": {},
   "source": [
    "An abstract method is a method that is declared in an abstract class, but it does not contain any implementation. The purpose of an abstract method is to be overridden by subclasses that provide the specific implementation of that method.\n",
    "\n",
    "The `Animal` class serves as a base (or parent) class, and it contains an abstract method called `speak`, which is defined using the `pass` statement. This indicates that the `speak` method does not do anything in the `Animal` class itself; it's just a placeholder.\n",
    "\n",
    "In Python, to define an abstract class and enforce abstract methods, you typically use the abc module, specifically the ABC class and the abstractmethod decorator. Here's how that would look:"
   ]
  },
  {
   "cell_type": "code",
   "execution_count": 2,
   "id": "708ccb8d",
   "metadata": {},
   "outputs": [
    {
     "name": "stdout",
     "output_type": "stream",
     "text": [
      "Buddy says Woof!\n",
      "Whiskers says Meow!\n"
     ]
    }
   ],
   "source": [
    "from abc import ABC, abstractmethod  \n",
    "\n",
    "class Animal(ABC):  \n",
    "    def __init__(self, name):  \n",
    "        self.name = name  \n",
    "\n",
    "    @abstractmethod  \n",
    "    def speak(self):  \n",
    "        pass  \n",
    "\n",
    "class Dog(Animal):  \n",
    "    def speak(self):  \n",
    "        return f\"{self.name} says Woof!\"  \n",
    "\n",
    "class Cat(Animal):  \n",
    "    def speak(self):  \n",
    "        return f\"{self.name} says Meow!\"  \n",
    "\n",
    "\n",
    "# Example of using the classes  \n",
    "if __name__ == \"__main__\":  \n",
    "    dog = Dog(\"Buddy\")  \n",
    "    print(dog.speak())  \n",
    "    # Output: Buddy says Woof!  \n",
    "\n",
    "    cat = Cat(\"Whiskers\")  \n",
    "    print(cat.speak())  \n",
    "    # Output: Whiskers says Meow!"
   ]
  },
  {
   "cell_type": "markdown",
   "id": "da2c37cf",
   "metadata": {},
   "source": [
    "Using the `abc` module helps make it clear that `Animal` is intended to be an abstract class and that `speak` is an abstract method."
   ]
  },
  {
   "cell_type": "markdown",
   "id": "abc7b81e",
   "metadata": {},
   "source": [
    "## Overriding Methods\n",
    "\n",
    "Method overriding allows a subclass to provide a specific implementation of a method that is already defined in its superclass. This is useful when the behavior of the method needs to be modified for the subclass."
   ]
  },
  {
   "cell_type": "code",
   "execution_count": 3,
   "id": "9275b47c",
   "metadata": {},
   "outputs": [
    {
     "name": "stdout",
     "output_type": "stream",
     "text": [
      "Buddy says Woof!\n",
      "Whiskers says Meow!\n"
     ]
    }
   ],
   "source": [
    "class Animal:\n",
    "    def __init__(self, name):\n",
    "        self.name = name\n",
    "\n",
    "    def speak(self):\n",
    "        return \"Some sound\"\n",
    "\n",
    "class Dog(Animal):\n",
    "    def speak(self):\n",
    "        return f\"{self.name} says Woof!\"\n",
    "\n",
    "class Cat(Animal):\n",
    "    def speak(self):\n",
    "        return f\"{self.name} says Meow!\"\n",
    "\n",
    "# Creating instances\n",
    "dog = Dog(\"Buddy\")\n",
    "cat = Cat(\"Whiskers\")\n",
    "\n",
    "print(dog.speak())  # Output: Buddy says Woof!\n",
    "print(cat.speak())  # Output: Whiskers says Meow!"
   ]
  },
  {
   "cell_type": "markdown",
   "id": "de724729",
   "metadata": {},
   "source": [
    "## Polymorphism\n",
    "The word polymorphism means having many forms. In programming, polymorphism means the same function name (but different signatures) being used for different types. The key difference is the data types and number of arguments used in a function.\n",
    "\n",
    "Example of inbuilt polymorphic functions in Python:"
   ]
  },
  {
   "cell_type": "code",
   "execution_count": 4,
   "id": "91e606fb",
   "metadata": {},
   "outputs": [
    {
     "name": "stdout",
     "output_type": "stream",
     "text": [
      "4\n",
      "3\n"
     ]
    }
   ],
   "source": [
    "# len() being used for a string\n",
    "print(len(\"Love\"))\n",
    "\n",
    "# len() being used for a list\n",
    "print(len([10, 20, 30]))"
   ]
  },
  {
   "cell_type": "markdown",
   "id": "72755334",
   "metadata": {},
   "source": [
    "### Examples of user-defined polymorphic functions:\n",
    "\n",
    "User-defined polymorphic functions allow you to write functions that can handle multiple types of data. Here’s a simple example in Python using a function that works with different types:"
   ]
  },
  {
   "cell_type": "code",
   "execution_count": 5,
   "id": "829b297e",
   "metadata": {},
   "outputs": [
    {
     "name": "stdout",
     "output_type": "stream",
     "text": [
      "Sum of integers: 8\n",
      "Sum of floats: 8.7\n",
      "Concatenated string: Hello, world!\n",
      "Concatenated lists: [1, 2, 3, 4]\n"
     ]
    }
   ],
   "source": [
    "def add(a, b):  \n",
    "    return a + b  \n",
    "\n",
    "# Function with integers  \n",
    "result_int = add(5, 3)  \n",
    "print(f\"Sum of integers: {result_int}\")  \n",
    "# Output: Sum of integers: 8  \n",
    "\n",
    "\n",
    "# Function with floats  \n",
    "result_float = add(5.5, 3.2)  \n",
    "print(f\"Sum of floats: {result_float}\")  \n",
    "# Output: Sum of floats: 8.7  \n",
    "\n",
    "\n",
    "# Function with strings  \n",
    "result_str = add(\"Hello, \", \"world!\")  \n",
    "print(f\"Concatenated string: {result_str}\")  \n",
    "# Output: Concatenated string: Hello, world!  \n",
    "\n",
    "\n",
    "# Function with lists  \n",
    "result_list = add([1, 2], [3, 4])  \n",
    "print(f\"Concatenated lists: {result_list}\")  \n",
    "# Output: Concatenated lists: [1, 2, 3, 4]"
   ]
  },
  {
   "cell_type": "markdown",
   "id": "434f1882",
   "metadata": {},
   "source": [
    "Method Overriding and Method Overloading\n",
    "\n",
    "- **Method Overriding**: As seen in the previous section, method overriding allows a subclass to provide a specific implementation of a method that is already defined in its superclass.\n",
    "- **Method Overloading**: Python does not support method overloading by default. However, you can achieve similar functionality by using default arguments or variable-length arguments."
   ]
  },
  {
   "cell_type": "code",
   "execution_count": 6,
   "id": "56a8b28a",
   "metadata": {},
   "outputs": [
    {
     "name": "stdout",
     "output_type": "stream",
     "text": [
      "5\n",
      "9\n"
     ]
    }
   ],
   "source": [
    "class MathOperations:\n",
    "    def add(self, a, b, c=0):\n",
    "        return a + b + c\n",
    "\n",
    "# Example usage\n",
    "math_ops = MathOperations()\n",
    "print(math_ops.add(2, 3))     # Output: 5\n",
    "print(math_ops.add(2, 3, 4))  # Output: 9"
   ]
  },
  {
   "cell_type": "markdown",
   "id": "d7f69426",
   "metadata": {},
   "source": [
    "### Using Polymorphism in Practice\n",
    "\n",
    "Polymorphism allows us to define methods in the superclass and override them in the subclass. We can then use these methods on objects of different subclasses, allowing for a common interface."
   ]
  },
  {
   "cell_type": "code",
   "execution_count": 7,
   "id": "a7f69cdf",
   "metadata": {},
   "outputs": [
    {
     "name": "stdout",
     "output_type": "stream",
     "text": [
      "Buddy says Woof!\n",
      "Whiskers says Meow!\n"
     ]
    }
   ],
   "source": [
    "class Animal:\n",
    "    def __init__(self, name):\n",
    "        self.name = name\n",
    "\n",
    "    def speak(self):\n",
    "        pass\n",
    "\n",
    "class Dog(Animal):\n",
    "    def speak(self):\n",
    "        return f\"{self.name} says Woof!\"\n",
    "\n",
    "class Cat(Animal):\n",
    "    def speak(self):\n",
    "        return f\"{self.name} says Meow!\"\n",
    "\n",
    "# Polymorphic behavior\n",
    "animals = [Dog(\"Buddy\"), Cat(\"Whiskers\")]\n",
    "\n",
    "for animal in animals:\n",
    "    print(animal.speak())"
   ]
  },
  {
   "cell_type": "markdown",
   "id": "134c05dd",
   "metadata": {},
   "source": [
    "### Practical Exercise: Design a Base Class and Derive Multiple Subclasses Demonstrating Inheritance and Polymorphism\n",
    "\n",
    "Create a `Vehicle` class with the following requirements:\n",
    "\n",
    "1. The `Vehicle` class should have instance attributes `make` and `model`.\n",
    "2. Define a method `description` that returns a string with the `vehicle` details.\n",
    "3. Create subclasses `Car` and `Truck` that inherit from `Vehicle`.\n",
    "4. Override the `description` method in each subclass to provide specific details.\n",
    "5. Demonstrate polymorphism by creating a list of different `vehicle` objects and calling the `description` method on each."
   ]
  },
  {
   "cell_type": "code",
   "execution_count": 8,
   "id": "23047158",
   "metadata": {},
   "outputs": [
    {
     "name": "stdout",
     "output_type": "stream",
     "text": [
      "Car: Toyota Corolla with 4 doors\n",
      "Truck: Ford F-150 with 5 tons capacity\n"
     ]
    }
   ],
   "source": [
    "class Vehicle:\n",
    "    def __init__(self, make, model):\n",
    "        self.make = make\n",
    "        self.model = model\n",
    "\n",
    "    def description(self):\n",
    "        return f\"Vehicle: {self.make} {self.model}\"\n",
    "\n",
    "class Car(Vehicle):\n",
    "    def __init__(self, make, model, doors):\n",
    "        super().__init__(make, model)\n",
    "        self.doors = doors\n",
    "\n",
    "    def description(self):\n",
    "        return f\"Car: {self.make} {self.model} with {self.doors} doors\"\n",
    "\n",
    "class Truck(Vehicle):\n",
    "    def __init__(self, make, model, capacity):\n",
    "        super().__init__(make, model)\n",
    "        self.capacity = capacity\n",
    "\n",
    "    def description(self):\n",
    "        return f\"Truck: {self.make} {self.model} with {self.capacity} tons capacity\"\n",
    "\n",
    "# Creating instances\n",
    "car = Car(\"Toyota\", \"Corolla\", 4)\n",
    "truck = Truck(\"Ford\", \"F-150\", 5)\n",
    "\n",
    "# Polymorphic behavior\n",
    "vehicles = [car, truck]\n",
    "\n",
    "for vehicle in vehicles:\n",
    "    print(vehicle.description())"
   ]
  },
  {
   "cell_type": "code",
   "execution_count": null,
   "id": "30366610",
   "metadata": {},
   "outputs": [],
   "source": []
  }
 ],
 "metadata": {
  "kernelspec": {
   "display_name": "llms",
   "language": "python",
   "name": "python3"
  },
  "language_info": {
   "codemirror_mode": {
    "name": "ipython",
    "version": 3
   },
   "file_extension": ".py",
   "mimetype": "text/x-python",
   "name": "python",
   "nbconvert_exporter": "python",
   "pygments_lexer": "ipython3",
   "version": "3.11.13"
  }
 },
 "nbformat": 4,
 "nbformat_minor": 5
}
