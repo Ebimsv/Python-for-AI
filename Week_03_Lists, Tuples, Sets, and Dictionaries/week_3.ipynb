{
 "cells": [
  {
   "cell_type": "markdown",
   "id": "29512514",
   "metadata": {},
   "source": [
    "# 1. Lists in Python"
   ]
  },
  {
   "cell_type": "markdown",
   "id": "164f9558",
   "metadata": {},
   "source": [
    "## 1-1. Creating Lists"
   ]
  },
  {
   "cell_type": "code",
   "execution_count": 3,
   "id": "d85edc3d",
   "metadata": {},
   "outputs": [
    {
     "name": "stdout",
     "output_type": "stream",
     "text": [
      "['Linux', 'Windows', 'MacOS']\n"
     ]
    }
   ],
   "source": [
    "# Creating a list of OS  \n",
    "operating_systems = [\"Linux\", \"Windows\", \"MacOS\"]  \n",
    "print(operating_systems)"
   ]
  },
  {
   "cell_type": "markdown",
   "id": "b5a5a914",
   "metadata": {},
   "source": [
    "## 1–2. Indexing and Slicing Lists"
   ]
  },
  {
   "cell_type": "code",
   "execution_count": 4,
   "id": "8af661a4",
   "metadata": {},
   "outputs": [
    {
     "name": "stdout",
     "output_type": "stream",
     "text": [
      "Linux Windows\n",
      "['Windows', 'MacOS']\n"
     ]
    }
   ],
   "source": [
    "# Accessing elements  \n",
    "first_os = operating_systems[0]   # 'Linux'  \n",
    "second_os = operating_systems[1]  # 'Windows'  \n",
    "\n",
    "# Slicing a list  \n",
    "sublist = operating_systems[1:3]  # ['Windows', 'MacOS']  \n",
    "\n",
    "print(first_os, second_os)  \n",
    "print(sublist)"
   ]
  },
  {
   "cell_type": "markdown",
   "id": "107cf0a8",
   "metadata": {},
   "source": [
    "## 1-3. Modifying Lists"
   ]
  },
  {
   "cell_type": "code",
   "execution_count": 5,
   "id": "11301d56",
   "metadata": {},
   "outputs": [
    {
     "name": "stdout",
     "output_type": "stream",
     "text": [
      "['Linux', 'MacOS', 'ChromiumOS']\n"
     ]
    }
   ],
   "source": [
    "# Adding an element  \n",
    "operating_systems.append(\"ChromiumOS\")  # Adds 'ChromiumOS' to the end of the list  \n",
    "\n",
    "# Removing an element  \n",
    "operating_systems.remove(\"Windows\")     # Removes 'Windows' from the list  \n",
    "\n",
    "print(operating_systems)"
   ]
  },
  {
   "cell_type": "markdown",
   "id": "7c202555",
   "metadata": {},
   "source": [
    "## 1-4. List Methods\n",
    "\n",
    "Python provides a wide range of built-in methods for working with lists. Here are some commonly used methods:\n",
    "\n",
    "- append(item): Adds an item to the end of the list.\n",
    "- insert(index, item): Inserts an item at a specified index.\n",
    "- pop(index): Removes and returns the item at the specified index (defaults to the last item).\n",
    "- sort(): Sorts the list in ascending order.\n",
    "- reverse(): Reverses the order of the list."
   ]
  },
  {
   "cell_type": "code",
   "execution_count": 6,
   "id": "a581ed28",
   "metadata": {},
   "outputs": [
    {
     "name": "stdout",
     "output_type": "stream",
     "text": [
      "['Linux', 'MS-DOS', 'MacOS']\n",
      "Popped OS: ChromiumOS\n"
     ]
    }
   ],
   "source": [
    "# Inserting an item  \n",
    "operating_systems.insert(1, \"MS-DOS\")  # Inserts 'MS-DOS' at index 1  \n",
    "\n",
    "# Popping an item: Removes and returns the last item ('ChromiumOS')\n",
    "last_fruit = operating_systems.pop()  \n",
    "\n",
    "# Sorting the list  \n",
    "operating_systems.sort()              # Sorts the list in alphabetical order  \n",
    "\n",
    "print(operating_systems)  \n",
    "print(\"Popped OS:\", last_fruit)"
   ]
  },
  {
   "cell_type": "markdown",
   "id": "78579010",
   "metadata": {},
   "source": [
    "## 1-5. List Comprehension\n",
    "\n",
    "List comprehension is a concise way to create lists in Python. It consists of brackets containing an expression followed by a for clause, with optional if clauses to filter items."
   ]
  },
  {
   "cell_type": "code",
   "execution_count": 7,
   "id": "85235739",
   "metadata": {},
   "outputs": [
    {
     "name": "stdout",
     "output_type": "stream",
     "text": [
      "[0, 4, 16, 36, 64]\n"
     ]
    }
   ],
   "source": [
    "# Creating a list of squares for even numbers from 0 to 9  \n",
    "squares = [x**2 for x in range(10) if x % 2 == 0]  \n",
    "\n",
    "print(squares)  # Outputs only squares of even numbers"
   ]
  },
  {
   "cell_type": "markdown",
   "id": "15882d6a",
   "metadata": {},
   "source": [
    "# 2. Tuple in Python\n",
    "A tuple is a built-in data structure in Python that allows you to store an ordered collection of items. Similar to lists, tuples can hold multiple data types within a single entity, but they are immutable, meaning that once created, the elements cannot be modified, added, or removed. "
   ]
  },
  {
   "cell_type": "markdown",
   "id": "7425aa4f",
   "metadata": {},
   "source": [
    "## 2-1. Creating Tuples"
   ]
  },
  {
   "cell_type": "code",
   "execution_count": 8,
   "id": "9d2dfee9",
   "metadata": {},
   "outputs": [
    {
     "name": "stdout",
     "output_type": "stream",
     "text": [
      "('BMW', 'Cadillac', 'Ford')\n"
     ]
    }
   ],
   "source": [
    "# Creating a tuple of cars  \n",
    "cars = (\"BMW\", \"Cadillac\", \"Ford\")  \n",
    "print(cars)"
   ]
  },
  {
   "cell_type": "markdown",
   "id": "98f4c215",
   "metadata": {},
   "source": [
    "## 2-2. Accessing Tuple Elements"
   ]
  },
  {
   "cell_type": "code",
   "execution_count": 9,
   "id": "2c23e1f8",
   "metadata": {},
   "outputs": [
    {
     "name": "stdout",
     "output_type": "stream",
     "text": [
      "BMW Cadillac\n"
     ]
    }
   ],
   "source": [
    "# Accessing elements  \n",
    "first_car = cars[0]   # 'BMW'  \n",
    "second_car = cars[1]  # 'Cadillac'  \n",
    "\n",
    "print(first_car, second_car)"
   ]
  },
  {
   "cell_type": "markdown",
   "id": "f31a8cce",
   "metadata": {},
   "source": [
    "## 2-3. Slicing Tuples"
   ]
  },
  {
   "cell_type": "code",
   "execution_count": 10,
   "id": "9db85fb1",
   "metadata": {},
   "outputs": [
    {
     "name": "stdout",
     "output_type": "stream",
     "text": [
      "('Cadillac', 'Ford')\n"
     ]
    }
   ],
   "source": [
    "# Slicing a tuple  \n",
    "subtuple = cars[1:3]  # ('Cadillac', 'Ford')  \n",
    "\n",
    "print(subtuple)"
   ]
  },
  {
   "cell_type": "markdown",
   "id": "a9fb84b6",
   "metadata": {},
   "source": [
    "## 2-4. Modifying Tuples"
   ]
  },
  {
   "cell_type": "code",
   "execution_count": 12,
   "id": "04f26088",
   "metadata": {},
   "outputs": [
    {
     "name": "stdout",
     "output_type": "stream",
     "text": [
      "('BMW', 'Cadillac', 'Toyota')\n"
     ]
    }
   ],
   "source": [
    "# Original tuple  \n",
    "cars = (\"BMW\", \"Cadillac\", \"Ford\")  \n",
    "\n",
    "# Modifying the tuple by creating a new one  \n",
    "modified_cars = cars[:-1] + (\"Toyota\",)  \n",
    "\n",
    "print(modified_cars)  "
   ]
  },
  {
   "cell_type": "markdown",
   "id": "39c85d56",
   "metadata": {},
   "source": [
    "## 2-5. Tuple Methods\n",
    "\n",
    "Tuples provide a limited set of built-in methods, primarily for counting and finding elements.\n",
    "\n",
    "- count(value): Returns the number of times a specified value appears in the tuple.\n",
    "- index(value): Returns the index of the first occurrence of a specified value."
   ]
  },
  {
   "cell_type": "code",
   "execution_count": 13,
   "id": "6c0a398d",
   "metadata": {},
   "outputs": [
    {
     "name": "stdout",
     "output_type": "stream",
     "text": [
      "Count of 1s: 3\n",
      "First index of 2: 1\n"
     ]
    }
   ],
   "source": [
    "# Creating a tuple with repeating elements  \n",
    "numbers = (1, 2, 3, 1, 2, 1)  \n",
    "\n",
    "# Counting occurrences of an element  \n",
    "count_of_ones = numbers.count(1)  # 3  \n",
    "\n",
    "# Finding the index of the first occurrence of an element  \n",
    "first_index_of_two = numbers.index(2)  # 1  \n",
    "\n",
    "print(\"Count of 1s:\", count_of_ones)  \n",
    "print(\"First index of 2:\", first_index_of_two)"
   ]
  },
  {
   "cell_type": "markdown",
   "id": "06d5a382",
   "metadata": {},
   "source": [
    "## 2-6. Packing and Unpacking Tuples\n"
   ]
  },
  {
   "cell_type": "code",
   "execution_count": 14,
   "id": "2036bbe9",
   "metadata": {},
   "outputs": [
    {
     "name": "stdout",
     "output_type": "stream",
     "text": [
      "Name: John, Age: 30, Profession: Engineer\n"
     ]
    }
   ],
   "source": [
    "# Packing values into a tuple\n",
    "person = (\"John\", 30, \"Engineer\")  \n",
    "\n",
    "# Unpacking a tuple into individual variables \n",
    "name, age, profession = person  \n",
    "\n",
    "print(f\"Name: {name}, Age: {age}, Profession: {profession}\")"
   ]
  },
  {
   "cell_type": "markdown",
   "id": "01200903",
   "metadata": {},
   "source": [
    "# 3. Sets in Python\n"
   ]
  },
  {
   "cell_type": "markdown",
   "id": "d6a110ca",
   "metadata": {},
   "source": [
    "## 3-1. Creating Sets\n"
   ]
  },
  {
   "cell_type": "code",
   "execution_count": 15,
   "id": "81f9335e",
   "metadata": {},
   "outputs": [
    {
     "name": "stdout",
     "output_type": "stream",
     "text": [
      "{'Ford', 'Cadillac', 'BMW'}\n"
     ]
    }
   ],
   "source": [
    "# Creating a set of cars  \n",
    "cars = {\"BMW\", \"Cadillac\", \"Ford\"}  \n",
    "print(cars)"
   ]
  },
  {
   "cell_type": "markdown",
   "id": "b80f55ea",
   "metadata": {},
   "source": [
    "## 3–2. Adding and Removing Elements\n"
   ]
  },
  {
   "cell_type": "code",
   "execution_count": 17,
   "id": "411a1dfa",
   "metadata": {},
   "outputs": [
    {
     "name": "stdout",
     "output_type": "stream",
     "text": [
      "{'Ubuntu', 'macOS', 'Linux'}\n"
     ]
    }
   ],
   "source": [
    "# Creating a set of operating systems  \n",
    "operating_systems = {\"Windows\", \"macOS\", \"Linux\"}  \n",
    "\n",
    "# Adding an element  \n",
    "operating_systems.add(\"Ubuntu\")  \n",
    "\n",
    "# Removing an element  \n",
    "operating_systems.remove(\"Windows\")  # Raises KeyError if 'Windows' is not found  \n",
    "operating_systems.discard(\"Windows\")  # Safely removes 'Windows' if it exists  \n",
    "\n",
    "print(operating_systems)"
   ]
  },
  {
   "cell_type": "markdown",
   "id": "dd94acba",
   "metadata": {},
   "source": [
    "## 3-3. Set Operations\n"
   ]
  },
  {
   "cell_type": "code",
   "execution_count": 18,
   "id": "3950f16a",
   "metadata": {},
   "outputs": [
    {
     "name": "stdout",
     "output_type": "stream",
     "text": [
      "Union: {1, 2, 3, 4, 5, 6}\n",
      "Intersection: {3, 4}\n",
      "Difference: {1, 2}\n",
      "Symmetric Difference: {1, 2, 5, 6}\n"
     ]
    }
   ],
   "source": [
    "# Defining two sets  \n",
    "set_a = {1, 2, 3, 4}  \n",
    "set_b = {3, 4, 5, 6}  \n",
    "\n",
    "# Union of two sets  \n",
    "union_set = set_a | set_b  # or set_a.union(set_b)  \n",
    "\n",
    "# Intersection of two sets  \n",
    "intersection_set = set_a & set_b  # or set_a.intersection(set_b)  \n",
    "\n",
    "# Difference of two sets  \n",
    "difference_set = set_a - set_b  # or set_a.difference(set_b)  \n",
    "\n",
    "# Symmetric difference (items in either set, but not in both)  \n",
    "symmetric_difference_set = set_a ^ set_b  # or set_a.symmetric_difference(set_b)  \n",
    "\n",
    "print(\"Union:\", union_set)  \n",
    "print(\"Intersection:\", intersection_set)  \n",
    "print(\"Difference:\", difference_set)  \n",
    "print(\"Symmetric Difference:\", symmetric_difference_set)"
   ]
  },
  {
   "cell_type": "markdown",
   "id": "c6a317af",
   "metadata": {},
   "source": [
    "## 3-4. Membership Testing\n"
   ]
  },
  {
   "cell_type": "code",
   "execution_count": 19,
   "id": "6855394e",
   "metadata": {},
   "outputs": [
    {
     "name": "stdout",
     "output_type": "stream",
     "text": [
      "Is 3 in numbers? True\n",
      "Is 6 in numbers? False\n"
     ]
    }
   ],
   "source": [
    "# Creating a set of numbers  \n",
    "numbers = {1, 2, 3, 4, 5}  \n",
    "\n",
    "# Testing membership  \n",
    "is_three_in_set = 3 in numbers  # True  \n",
    "is_six_in_set = 6 in numbers    # False  \n",
    "\n",
    "print(\"Is 3 in numbers?\", is_three_in_set)  \n",
    "print(\"Is 6 in numbers?\", is_six_in_set)"
   ]
  },
  {
   "cell_type": "markdown",
   "id": "69916937",
   "metadata": {},
   "source": [
    "## 3-5. Set Comprehension\n"
   ]
  },
  {
   "cell_type": "code",
   "execution_count": 20,
   "id": "50c50e70",
   "metadata": {},
   "outputs": [
    {
     "name": "stdout",
     "output_type": "stream",
     "text": [
      "{0, 64, 4, 36, 16}\n"
     ]
    }
   ],
   "source": [
    "# Creating a set of squares for even numbers from 0 to 9  \n",
    "squares = {x**2 for x in range(10) if x % 2 == 0}  \n",
    "\n",
    "print(squares)  # Outputs a set of squares of even numbers"
   ]
  },
  {
   "cell_type": "markdown",
   "id": "4c093368",
   "metadata": {},
   "source": [
    "# 4. Dictionaries in Python\n"
   ]
  },
  {
   "cell_type": "markdown",
   "id": "cb2339f1",
   "metadata": {},
   "source": [
    "## 4-1. Creating Dictionaries\n"
   ]
  },
  {
   "cell_type": "code",
   "execution_count": 21,
   "id": "2bb77c50",
   "metadata": {},
   "outputs": [
    {
     "name": "stdout",
     "output_type": "stream",
     "text": [
      "{'apple': 0.6, 'banana': 0.5, 'cherry': 1.0}\n"
     ]
    }
   ],
   "source": [
    "# Creating a dictionary to store fruit prices  \n",
    "fruit_prices = {  \n",
    "    \"apple\": 0.60,  \n",
    "    \"banana\": 0.50,  \n",
    "    \"cherry\": 1.00  \n",
    "}  \n",
    "print(fruit_prices)"
   ]
  },
  {
   "cell_type": "markdown",
   "id": "8eb53674",
   "metadata": {},
   "source": [
    "## 4-2. Accessing Values\n"
   ]
  },
  {
   "cell_type": "code",
   "execution_count": 22,
   "id": "3bcad236",
   "metadata": {},
   "outputs": [
    {
     "name": "stdout",
     "output_type": "stream",
     "text": [
      "Apple Price: 0.6\n",
      "Banana Price: 0.5\n"
     ]
    }
   ],
   "source": [
    "# Accessing prices  \n",
    "apple_price = fruit_prices[\"apple\"]  # Using brackets  \n",
    "banana_price = fruit_prices.get(\"banana\", \"Not found\")  # Using get()  \n",
    "\n",
    "print(\"Apple Price:\", apple_price)  \n",
    "print(\"Banana Price:\", banana_price)"
   ]
  },
  {
   "cell_type": "markdown",
   "id": "e288c2aa",
   "metadata": {},
   "source": [
    "## 4-3. Adding and Updating Entries\n"
   ]
  },
  {
   "cell_type": "code",
   "execution_count": 23,
   "id": "9a571c2a",
   "metadata": {},
   "outputs": [
    {
     "name": "stdout",
     "output_type": "stream",
     "text": [
      "{'apple': 0.6, 'banana': 0.6, 'cherry': 1.0, 'orange': 0.8}\n"
     ]
    }
   ],
   "source": [
    "# Adding a new fruit price  \n",
    "fruit_prices[\"orange\"] = 0.80  \n",
    "\n",
    "# Updating an existing fruit price  \n",
    "fruit_prices[\"banana\"] = 0.60  \n",
    "\n",
    "print(fruit_prices)"
   ]
  },
  {
   "cell_type": "markdown",
   "id": "4728d6ca",
   "metadata": {},
   "source": [
    "## 4-4. Removing Entries\n"
   ]
  },
  {
   "cell_type": "code",
   "execution_count": 24,
   "id": "9cc73849",
   "metadata": {},
   "outputs": [
    {
     "name": "stdout",
     "output_type": "stream",
     "text": [
      "{'apple': 0.6, 'orange': 0.8}\n",
      "Removed Banana Price: 0.6\n"
     ]
    }
   ],
   "source": [
    "# Removing an entry using del  \n",
    "del fruit_prices[\"cherry\"]  \n",
    "\n",
    "# Removing an entry using pop  \n",
    "banana_price = fruit_prices.pop(\"banana\", \"Not found\")  \n",
    "\n",
    "print(fruit_prices)  \n",
    "print(\"Removed Banana Price:\", banana_price)"
   ]
  },
  {
   "cell_type": "markdown",
   "id": "4d506199",
   "metadata": {},
   "source": [
    "## 4-5. Iterating Through Dictionaries\n"
   ]
  },
  {
   "cell_type": "code",
   "execution_count": 25,
   "id": "cc7b55be",
   "metadata": {},
   "outputs": [
    {
     "name": "stdout",
     "output_type": "stream",
     "text": [
      "apple: $0.60\n",
      "orange: $0.80\n"
     ]
    }
   ],
   "source": [
    "# Iterating through keys and values  \n",
    "for fruit, price in fruit_prices.items():  \n",
    "    print(f\"{fruit}: ${price:.2f}\")"
   ]
  },
  {
   "cell_type": "markdown",
   "id": "56803564",
   "metadata": {},
   "source": [
    "## 4-6. Nested Dictionaries\n"
   ]
  },
  {
   "cell_type": "code",
   "execution_count": 26,
   "id": "0b54d6e9",
   "metadata": {},
   "outputs": [
    {
     "name": "stdout",
     "output_type": "stream",
     "text": [
      "Book Title: Python Programming\n"
     ]
    }
   ],
   "source": [
    "# Creating a nested dictionary for a book collection  \n",
    "book_collection = {  \n",
    "    \"978-3-16-148410-0\": {  \n",
    "        \"title\": \"Python Programming\",  \n",
    "        \"author\": \"John Doe\",  \n",
    "        \"year\": 2020  \n",
    "    },  \n",
    "    \"978-0-13-419044-0\": {  \n",
    "        \"title\": \"Data Science Handbook\",  \n",
    "        \"author\": \"Jane Smith\",  \n",
    "        \"year\": 2019  \n",
    "    }  \n",
    "}  \n",
    "\n",
    "# Accessing nested dictionary values  \n",
    "book_title = book_collection[\"978-3-16-148410-0\"][\"title\"]  \n",
    "print(\"Book Title:\", book_title)"
   ]
  },
  {
   "cell_type": "markdown",
   "id": "893ae60c",
   "metadata": {},
   "source": [
    "## 4-7. Dictionary Comprehension\n"
   ]
  },
  {
   "cell_type": "code",
   "execution_count": 27,
   "id": "7dff678a",
   "metadata": {},
   "outputs": [
    {
     "name": "stdout",
     "output_type": "stream",
     "text": [
      "{1: 1, 2: 4, 3: 9, 4: 16, 5: 25}\n"
     ]
    }
   ],
   "source": [
    "# Creating a dictionary of squares for numbers 1 to 5  \n",
    "squares = {x: x**2 for x in range(1, 6)}  \n",
    "\n",
    "print(squares)"
   ]
  }
 ],
 "metadata": {
  "kernelspec": {
   "display_name": "pytorch27",
   "language": "python",
   "name": "python3"
  },
  "language_info": {
   "codemirror_mode": {
    "name": "ipython",
    "version": 3
   },
   "file_extension": ".py",
   "mimetype": "text/x-python",
   "name": "python",
   "nbconvert_exporter": "python",
   "pygments_lexer": "ipython3",
   "version": "3.10.16"
  }
 },
 "nbformat": 4,
 "nbformat_minor": 5
}
