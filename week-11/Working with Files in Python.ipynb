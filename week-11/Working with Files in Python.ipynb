{
 "cells": [
  {
   "cell_type": "markdown",
   "id": "52794c56",
   "metadata": {},
   "source": [
    "# 📄 1. Working with Text Files (.txt)"
   ]
  },
  {
   "cell_type": "markdown",
   "id": "3be509f7",
   "metadata": {},
   "source": [
    "### 🔍 Example 1: Reading a list of stopwords from a file"
   ]
  },
  {
   "cell_type": "code",
   "execution_count": 14,
   "id": "8618261c",
   "metadata": {},
   "outputs": [
    {
     "name": "stdout",
     "output_type": "stream",
     "text": [
      "Stopwords: ['a', 'the', 'and', 'is', 'in', 'to']\n"
     ]
    }
   ],
   "source": [
    "# Reading stopwords\n",
    "stopwords = []\n",
    "with open('dataset/stopwords.txt', 'r') as file:\n",
    "    stopwords = [line.strip() for line in file]\n",
    "\n",
    "print(\"Stopwords:\", stopwords)"
   ]
  },
  {
   "cell_type": "markdown",
   "id": "c6c2d2fe",
   "metadata": {},
   "source": [
    "### 📝 Example 2: Writing logs during model training"
   ]
  },
  {
   "cell_type": "code",
   "execution_count": 23,
   "id": "f3c4ff67",
   "metadata": {},
   "outputs": [],
   "source": [
    "# Writing training log\n",
    "log_data = \"Epoch: 1, Loss: 0.3412, Accuracy: 89.2%\\n\"\n",
    "\n",
    "with open('dataset/training_log.txt', 'a') as file:\n",
    "    file.write(log_data)"
   ]
  },
  {
   "cell_type": "markdown",
   "id": "e0429b45",
   "metadata": {},
   "source": [
    "# 📊 2. Working with CSV Files"
   ]
  },
  {
   "cell_type": "markdown",
   "id": "b302d549",
   "metadata": {},
   "source": [
    "### 🔍 Example 1: Loading a small dataset"
   ]
  },
  {
   "cell_type": "code",
   "execution_count": 16,
   "id": "fde63194",
   "metadata": {},
   "outputs": [
    {
     "name": "stdout",
     "output_type": "stream",
     "text": [
      "Header: ['sepal_length', 'sepal_width', 'petal_length', 'petal_width', 'species']\n",
      "First Row: ['5.1', '3.5', '1.4', '0.2', 'setosa']\n"
     ]
    }
   ],
   "source": [
    "import csv\n",
    "\n",
    "# Open the CSV file in read mode\n",
    "with open('dataset/iris.csv', 'r') as file:\n",
    "    reader = csv.reader(file)           \n",
    "    header = next(reader)               \n",
    "    data = [row for row in reader]\n",
    "\n",
    "# Print the header and the first data row\n",
    "print(\"Header:\", header)\n",
    "print(\"First Row:\", data[0])"
   ]
  },
  {
   "cell_type": "markdown",
   "id": "6d9fe0c0",
   "metadata": {},
   "source": [
    "### 📝 Example 2: Writing predictions to a CSV file"
   ]
  },
  {
   "cell_type": "code",
   "execution_count": 17,
   "id": "d1c53ed9",
   "metadata": {},
   "outputs": [],
   "source": [
    "import csv\n",
    "\n",
    "# List of predictions with header\n",
    "predictions = [('id', 'label'), (1, 'cat'), (2, 'dog'), (3, 'cat')]\n",
    "\n",
    "# Open a new CSV file in write mode\n",
    "with open('dataset/predictions.csv', 'w', newline='') as file:\n",
    "    writer = csv.writer(file)        # Create a CSV writer object\n",
    "    writer.writerows(predictions)    # Write all rows to the CSV file"
   ]
  },
  {
   "cell_type": "markdown",
   "id": "18be67b6",
   "metadata": {},
   "source": [
    "# 🧾 3. Working with JSON Files"
   ]
  },
  {
   "cell_type": "markdown",
   "id": "7127861a",
   "metadata": {},
   "source": [
    "### 🔍 Example 1: Loading model parameters"
   ]
  },
  {
   "cell_type": "code",
   "execution_count": null,
   "id": "08400d77",
   "metadata": {},
   "outputs": [
    {
     "name": "stdout",
     "output_type": "stream",
     "text": [
      "Config: {'learning_rate': 0.01, 'batch_size': 32, 'epochs': 10}\n"
     ]
    }
   ],
   "source": [
    "import json\n",
    "\n",
    "# config.json\n",
    "\"\"\"\n",
    "{\n",
    "  \"learning_rate\": 0.01,\n",
    "  \"batch_size\": 32,\n",
    "  \"epochs\": 10\n",
    "}\n",
    "\"\"\"\n",
    "\n",
    "import json\n",
    "\n",
    "# Open and read the JSON configuration file\n",
    "with open('configs/config.json', 'r') as file:\n",
    "    config = json.load(file)    # Load the JSON data into a dictionary\n",
    "\n",
    "# Print the loaded configuration\n",
    "print(\"Config:\", config)"
   ]
  },
  {
   "cell_type": "markdown",
   "id": "ce5f8d05",
   "metadata": {},
   "source": [
    "### 📝 Example 2: Saving prediction metadata to a JSON file"
   ]
  },
  {
   "cell_type": "code",
   "execution_count": 29,
   "id": "96287896",
   "metadata": {},
   "outputs": [],
   "source": [
    "import json\n",
    "\n",
    "# Metadata results dictionary\n",
    "results = {\n",
    "    \"model\": \"bert-base-uncased\",\n",
    "    \"task\": \"sentiment-analysis\",\n",
    "    \"accuracy\": 0.9231,\n",
    "    \"timestamp\": \"2025-07-22T10:12:00\"\n",
    "}\n",
    "\n",
    "# Write the results dictionary to a JSON file with indentation for readability\n",
    "with open('dataset/results.json', 'w') as file:\n",
    "    json.dump(results, file, indent=4)"
   ]
  },
  {
   "cell_type": "markdown",
   "id": "188b77ba",
   "metadata": {},
   "source": [
    "# 🧪 4. Working with Pickle Files (Python Object Serialization)"
   ]
  },
  {
   "cell_type": "markdown",
   "id": "9e5b5ce5",
   "metadata": {},
   "source": [
    "## 🔍 Example: Saving a trained model"
   ]
  },
  {
   "cell_type": "code",
   "execution_count": 31,
   "id": "9d3dbd3a",
   "metadata": {},
   "outputs": [],
   "source": [
    "import pickle\n",
    "from sklearn.linear_model import LogisticRegression\n",
    "\n",
    "# Create a dummy logistic regression model\n",
    "model = LogisticRegression()\n",
    "model.fit([[0, 0], [1, 1]], [0, 1])  # Toy training data\n",
    "\n",
    "# Save the trained model to a file\n",
    "with open('models/model.pkl', 'wb') as file:\n",
    "    pickle.dump(model, file)"
   ]
  },
  {
   "cell_type": "markdown",
   "id": "21236339",
   "metadata": {},
   "source": [
    "## 🔁 Example: Loading the saved model later"
   ]
  },
  {
   "cell_type": "code",
   "execution_count": 35,
   "id": "e0cebddc",
   "metadata": {},
   "outputs": [
    {
     "name": "stdout",
     "output_type": "stream",
     "text": [
      "Model coefficients: [[0.40105276 0.40105276]]\n"
     ]
    }
   ],
   "source": [
    "import pickle\n",
    "\n",
    "# Load the model from the file\n",
    "with open('models/model.pkl', 'rb') as file:\n",
    "    loaded_model = pickle.load(file)\n",
    "\n",
    "# Show the model's coefficients\n",
    "print(\"Model coefficients:\", loaded_model.coef_)"
   ]
  },
  {
   "cell_type": "markdown",
   "id": "f12ffe07",
   "metadata": {},
   "source": [
    "# ⚙️ 5. Working with YAML Files"
   ]
  },
  {
   "cell_type": "code",
   "execution_count": 37,
   "id": "93bb9293",
   "metadata": {},
   "outputs": [
    {
     "name": "stdout",
     "output_type": "stream",
     "text": [
      "Model: {'name': 'resnet50', 'pretrained': True}\n",
      "Training config: {'epochs': 20, 'lr': 0.001}\n"
     ]
    }
   ],
   "source": [
    "import yaml\n",
    "\n",
    "# Read the YAML configuration file\n",
    "with open('configs/config.yaml', 'r') as file:\n",
    "    config = yaml.safe_load(file)    # Safely load the YAML data into a Python dictionary\n",
    "\n",
    "# Accessing elements\n",
    "print(\"Model:\", config['model'])\n",
    "print(\"Training config:\", config['training'])"
   ]
  },
  {
   "cell_type": "markdown",
   "id": "b98e83df",
   "metadata": {},
   "source": [
    "### 📝 Example: Saving a configuration to YAML"
   ]
  },
  {
   "cell_type": "code",
   "execution_count": 39,
   "id": "6e927b50",
   "metadata": {},
   "outputs": [],
   "source": [
    "import yaml\n",
    "\n",
    "experiment_config = {\n",
    "    \"model\": {\"name\": \"transformer\", \"layers\": 6},\n",
    "    \"optimizer\": {\"type\": \"Adam\", \"lr\": 1e-4}\n",
    "}\n",
    "\n",
    "# Write the configuration to a YAML file\n",
    "with open('results/experiment.yaml', 'w') as file:\n",
    "    yaml.dump(experiment_config, file)"
   ]
  },
  {
   "cell_type": "code",
   "execution_count": null,
   "id": "83bb0074",
   "metadata": {},
   "outputs": [],
   "source": []
  }
 ],
 "metadata": {
  "kernelspec": {
   "display_name": "pytorch27",
   "language": "python",
   "name": "python3"
  },
  "language_info": {
   "codemirror_mode": {
    "name": "ipython",
    "version": 3
   },
   "file_extension": ".py",
   "mimetype": "text/x-python",
   "name": "python",
   "nbconvert_exporter": "python",
   "pygments_lexer": "ipython3",
   "version": "3.10.16"
  }
 },
 "nbformat": 4,
 "nbformat_minor": 5
}
