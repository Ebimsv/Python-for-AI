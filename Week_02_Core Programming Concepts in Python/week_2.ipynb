{
 "cells": [
  {
   "cell_type": "markdown",
   "id": "6084c722",
   "metadata": {},
   "source": [
    "## 1. Data Types and Variables"
   ]
  },
  {
   "cell_type": "markdown",
   "id": "aa0f862e",
   "metadata": {},
   "source": [
    "### Built-in Data Types"
   ]
  },
  {
   "cell_type": "markdown",
   "id": "97bc6576",
   "metadata": {},
   "source": [
    "- Strings: A sequence of characters, defined by enclosing characters in quotes."
   ]
  },
  {
   "cell_type": "code",
   "execution_count": null,
   "id": "85c63b18",
   "metadata": {},
   "outputs": [],
   "source": [
    "name = \"Ebi\""
   ]
  },
  {
   "cell_type": "markdown",
   "id": "8255a134",
   "metadata": {},
   "source": [
    "- Integers: Whole numbers, both positive and negative.\n"
   ]
  },
  {
   "cell_type": "code",
   "execution_count": 1,
   "id": "8084b3d2",
   "metadata": {},
   "outputs": [],
   "source": [
    "age = 34"
   ]
  },
  {
   "cell_type": "markdown",
   "id": "d6c2cf7a",
   "metadata": {},
   "source": [
    "- Floats: Numbers that include a decimal point."
   ]
  },
  {
   "cell_type": "code",
   "execution_count": 2,
   "id": "9e5ba7ed",
   "metadata": {},
   "outputs": [],
   "source": [
    "height = 187"
   ]
  },
  {
   "cell_type": "markdown",
   "id": "7f501eea",
   "metadata": {},
   "source": [
    "- Booleans: Represents truth values, either True or False."
   ]
  },
  {
   "cell_type": "code",
   "execution_count": 3,
   "id": "600e6d96",
   "metadata": {},
   "outputs": [],
   "source": [
    "is_student = False"
   ]
  },
  {
   "cell_type": "markdown",
   "id": "680e2a8b",
   "metadata": {},
   "source": [
    "## Type Casting"
   ]
  },
  {
   "cell_type": "markdown",
   "id": "bb8d520c",
   "metadata": {},
   "source": [
    "**Converting Between Types**: Explain how to convert between data types using functions like int(), float(), and str()."
   ]
  },
  {
   "cell_type": "code",
   "execution_count": 4,
   "id": "85be5c1b",
   "metadata": {},
   "outputs": [],
   "source": [
    "price = \"19.9\"              # String\n",
    "price_float = float(price)  # Convert to float"
   ]
  },
  {
   "cell_type": "markdown",
   "id": "74519fee",
   "metadata": {},
   "source": [
    "## 2. Operators in Python"
   ]
  },
  {
   "cell_type": "markdown",
   "id": "ccf3445f",
   "metadata": {},
   "source": [
    "### 2.1 Arithmetic Operators"
   ]
  },
  {
   "cell_type": "markdown",
   "id": "d6004499",
   "metadata": {},
   "source": [
    "- Addition (+): Adds two numbers."
   ]
  },
  {
   "cell_type": "code",
   "execution_count": 5,
   "id": "d4864f7a",
   "metadata": {},
   "outputs": [],
   "source": [
    "a = 10  \n",
    "b = 5  \n",
    "result = a + b  # result is 15"
   ]
  },
  {
   "cell_type": "markdown",
   "id": "3c1501a8",
   "metadata": {},
   "source": [
    "- Subtraction (-): Subtracts the second operand from the first."
   ]
  },
  {
   "cell_type": "code",
   "execution_count": 6,
   "id": "08f1e910",
   "metadata": {},
   "outputs": [],
   "source": [
    "result = a - b  # result is 5"
   ]
  },
  {
   "cell_type": "markdown",
   "id": "efdc892d",
   "metadata": {},
   "source": [
    "- Multiplication (*): Multiplies two numbers.\n"
   ]
  },
  {
   "cell_type": "code",
   "execution_count": 7,
   "id": "a70f4d92",
   "metadata": {},
   "outputs": [],
   "source": [
    "result = a * b  # result is 50"
   ]
  },
  {
   "cell_type": "markdown",
   "id": "5d075671",
   "metadata": {},
   "source": [
    "- Division (/): Divides the numerator by the denominator (returns a float).\n"
   ]
  },
  {
   "cell_type": "code",
   "execution_count": 8,
   "id": "22f7e79f",
   "metadata": {},
   "outputs": [],
   "source": [
    "result = a / b  # result is 2.0"
   ]
  },
  {
   "cell_type": "markdown",
   "id": "f52a8922",
   "metadata": {},
   "source": [
    "- Floor Division (//): Divides and returns the largest integer less than or equal to the result."
   ]
  },
  {
   "cell_type": "code",
   "execution_count": 9,
   "id": "92ed1995",
   "metadata": {},
   "outputs": [],
   "source": [
    "result = a // b  # result is 2"
   ]
  },
  {
   "cell_type": "markdown",
   "id": "359b3f04",
   "metadata": {},
   "source": [
    "- Modulus (%): Returns the remainder of the division.\n"
   ]
  },
  {
   "cell_type": "code",
   "execution_count": 10,
   "id": "2ce15fbf",
   "metadata": {},
   "outputs": [],
   "source": [
    "result = a % b  # result is 0\n"
   ]
  },
  {
   "cell_type": "markdown",
   "id": "47441afe",
   "metadata": {},
   "source": [
    "- Exponentiation (**): Raises a number to the power of another.\n"
   ]
  },
  {
   "cell_type": "code",
   "execution_count": 11,
   "id": "7c7b1f72",
   "metadata": {},
   "outputs": [],
   "source": [
    "result = a ** 2  # result is 100"
   ]
  },
  {
   "cell_type": "markdown",
   "id": "6cc8c7e2",
   "metadata": {},
   "source": [
    "### 2.2 Assignment Operators\n",
    "\n",
    "Assignment operators assign values to variables. The basic assignment operator is the equal sign (=), but Python also includes compound assignment operators:"
   ]
  },
  {
   "cell_type": "markdown",
   "id": "18b1f9a0",
   "metadata": {},
   "source": [
    "- Simple Assignment (=):"
   ]
  },
  {
   "cell_type": "code",
   "execution_count": 12,
   "id": "d6088fdb",
   "metadata": {},
   "outputs": [],
   "source": [
    "x = 10"
   ]
  },
  {
   "cell_type": "markdown",
   "id": "0095e460",
   "metadata": {},
   "source": [
    "- Add and Assign (+=):\n"
   ]
  },
  {
   "cell_type": "code",
   "execution_count": 13,
   "id": "83ad1d82",
   "metadata": {},
   "outputs": [],
   "source": [
    "x += 5  # x is now 15"
   ]
  },
  {
   "cell_type": "markdown",
   "id": "d5ca1340",
   "metadata": {},
   "source": [
    "- Subtract and Assign (-=):"
   ]
  },
  {
   "cell_type": "code",
   "execution_count": 14,
   "id": "12160db9",
   "metadata": {},
   "outputs": [],
   "source": [
    "x -= 3  # x is now 12"
   ]
  },
  {
   "cell_type": "markdown",
   "id": "d1820ea1",
   "metadata": {},
   "source": [
    "- Multiply and Assign (*=):"
   ]
  },
  {
   "cell_type": "code",
   "execution_count": 15,
   "id": "6e691220",
   "metadata": {},
   "outputs": [],
   "source": [
    "x *= 2  # x is now 24"
   ]
  },
  {
   "cell_type": "markdown",
   "id": "6ea1af26",
   "metadata": {},
   "source": [
    "- Divide and Assign (/=):\n"
   ]
  },
  {
   "cell_type": "code",
   "execution_count": 16,
   "id": "1ef2c778",
   "metadata": {},
   "outputs": [],
   "source": [
    "x /= 4  # x is now 6.0"
   ]
  },
  {
   "cell_type": "markdown",
   "id": "cb9ff1da",
   "metadata": {},
   "source": [
    "### 2.3 Comparison Operators\n",
    "\n",
    "Comparison operators compare two values and return a Boolean result (True or False). The common comparison operators in Python are:"
   ]
  },
  {
   "cell_type": "markdown",
   "id": "e98cf202",
   "metadata": {},
   "source": [
    "- Equal (==):"
   ]
  },
  {
   "cell_type": "code",
   "execution_count": null,
   "id": "10f2288e",
   "metadata": {},
   "outputs": [],
   "source": [
    "is_equal = (a == b)  # is_equal is False"
   ]
  },
  {
   "cell_type": "markdown",
   "id": "69af78e2",
   "metadata": {},
   "source": [
    "- Not Equal (!=):\n"
   ]
  },
  {
   "cell_type": "code",
   "execution_count": 18,
   "id": "f7f0d037",
   "metadata": {},
   "outputs": [],
   "source": [
    "not_equal = (a != b)  # not_equal is True"
   ]
  },
  {
   "cell_type": "markdown",
   "id": "c7cd9503",
   "metadata": {},
   "source": [
    "- Greater Than (>):\n"
   ]
  },
  {
   "cell_type": "code",
   "execution_count": 19,
   "id": "667dcc06",
   "metadata": {},
   "outputs": [],
   "source": [
    "is_greater = (a > b)  # is_greater is True"
   ]
  },
  {
   "cell_type": "markdown",
   "id": "fb502439",
   "metadata": {},
   "source": [
    "- Less Than (<):"
   ]
  },
  {
   "cell_type": "code",
   "execution_count": 20,
   "id": "320ba1db",
   "metadata": {},
   "outputs": [],
   "source": [
    "is_less = (a < b)  # is_less is False"
   ]
  },
  {
   "cell_type": "markdown",
   "id": "4afab4a7",
   "metadata": {},
   "source": [
    "- Greater Than or Equal To (>=):\n"
   ]
  },
  {
   "cell_type": "code",
   "execution_count": 21,
   "id": "42b24253",
   "metadata": {},
   "outputs": [],
   "source": [
    "is_greater_equal = (a >= b)  # is_greater_equal is True"
   ]
  },
  {
   "cell_type": "markdown",
   "id": "124b19ab",
   "metadata": {},
   "source": [
    "- Less Than or Equal To (<=):\n"
   ]
  },
  {
   "cell_type": "code",
   "execution_count": 22,
   "id": "8f7555b6",
   "metadata": {},
   "outputs": [],
   "source": [
    "is_less_equal = (a <= b)  # is_less_equal is False"
   ]
  },
  {
   "cell_type": "markdown",
   "id": "84033b9c",
   "metadata": {},
   "source": [
    "### 2.4 Membership Operators\n",
    "\n",
    "Membership operators determine whether a value exists within a collection (like a list, tuple, or string). The primary membership operators are:"
   ]
  },
  {
   "cell_type": "markdown",
   "id": "e1a26f30",
   "metadata": {},
   "source": [
    "- In (in):"
   ]
  },
  {
   "cell_type": "code",
   "execution_count": 23,
   "id": "bc1c5dd3",
   "metadata": {},
   "outputs": [],
   "source": [
    "my_list = [1, 2, 3, 4, 5]  \n",
    "exists = 3 in my_list  # exists is True"
   ]
  },
  {
   "cell_type": "markdown",
   "id": "30c9ea79",
   "metadata": {},
   "source": [
    "- Not In (not in):"
   ]
  },
  {
   "cell_type": "code",
   "execution_count": 24,
   "id": "5fd85202",
   "metadata": {},
   "outputs": [],
   "source": [
    "exists = 6 not in my_list  # exists is True"
   ]
  },
  {
   "cell_type": "markdown",
   "id": "97865ed2",
   "metadata": {},
   "source": [
    "### 2.5 Logical Operators\n",
    "\n",
    "Logical operators are used to combine multiple Boolean expressions. The main logical operators in Python include:"
   ]
  },
  {
   "cell_type": "markdown",
   "id": "a41bfb16",
   "metadata": {},
   "source": [
    "- And (and): Returns True if both expressions are true.\n"
   ]
  },
  {
   "cell_type": "code",
   "execution_count": 25,
   "id": "5a848cf9",
   "metadata": {},
   "outputs": [],
   "source": [
    "a = 10  \n",
    "b = 5\n",
    "\n",
    "condition = (a > 5 and b < 10)  # condition is True"
   ]
  },
  {
   "cell_type": "markdown",
   "id": "6a016b02",
   "metadata": {},
   "source": [
    "- Or (or): Returns True if at least one expression is true."
   ]
  },
  {
   "cell_type": "code",
   "execution_count": 26,
   "id": "039ac8ea",
   "metadata": {},
   "outputs": [],
   "source": [
    "condition = (a < 5 or b < 10)  # condition is True"
   ]
  },
  {
   "cell_type": "markdown",
   "id": "bae5ab1f",
   "metadata": {},
   "source": [
    "- Not (not): Reverses the Boolean value of an expression.\n"
   ]
  },
  {
   "cell_type": "code",
   "execution_count": 27,
   "id": "5be68d5a",
   "metadata": {},
   "outputs": [],
   "source": [
    "condition = not (a > b)  # condition is True"
   ]
  },
  {
   "cell_type": "markdown",
   "id": "6d73e08d",
   "metadata": {},
   "source": [
    "## 3. Control Structures in Python: Conditional Statements (if, elif, else)"
   ]
  },
  {
   "cell_type": "markdown",
   "id": "5d5eb3cb",
   "metadata": {},
   "source": [
    "### 3.1 The if Statement\n",
    "The if statement evaluates a condition and executes a block of code only if that condition is True. This allows for the execution of different code paths based on dynamic conditions."
   ]
  },
  {
   "cell_type": "code",
   "execution_count": 28,
   "id": "ef76b221",
   "metadata": {},
   "outputs": [
    {
     "name": "stdout",
     "output_type": "stream",
     "text": [
      "You are eligible to vote.\n"
     ]
    }
   ],
   "source": [
    "age = 18  \n",
    "\n",
    "if age >= 18:  \n",
    "    print(\"You are eligible to vote.\")"
   ]
  },
  {
   "cell_type": "markdown",
   "id": "4d0b5827",
   "metadata": {},
   "source": [
    "### 3.2 The elif Statement"
   ]
  },
  {
   "cell_type": "code",
   "execution_count": 29,
   "id": "34f4cb48",
   "metadata": {},
   "outputs": [
    {
     "name": "stdout",
     "output_type": "stream",
     "text": [
      "Grade: B\n"
     ]
    }
   ],
   "source": [
    "score = 85  \n",
    "\n",
    "if score >= 90:  \n",
    "    print(\"Grade: A\")  \n",
    "elif score >= 80:  \n",
    "    print(\"Grade: B\")  \n",
    "elif score >= 70:  \n",
    "    print(\"Grade: C\")  \n",
    "else:  \n",
    "    print(\"Grade: F\")"
   ]
  },
  {
   "cell_type": "markdown",
   "id": "baddab45",
   "metadata": {},
   "source": [
    "### 3.3 The else Statement"
   ]
  },
  {
   "cell_type": "code",
   "execution_count": 30,
   "id": "9762d25a",
   "metadata": {},
   "outputs": [
    {
     "name": "stdout",
     "output_type": "stream",
     "text": [
      "The weather is moderate.\n"
     ]
    }
   ],
   "source": [
    "temperature = 30  \n",
    "\n",
    "if temperature > 30:  \n",
    "    print(\"It's hot outside.\")  \n",
    "elif temperature < 20:  \n",
    "    print(\"It's cold outside.\")  \n",
    "else:  \n",
    "    print(\"The weather is moderate.\")"
   ]
  },
  {
   "cell_type": "markdown",
   "id": "b3407daf",
   "metadata": {},
   "source": [
    "### 3.4 Combining Conditions\n"
   ]
  },
  {
   "cell_type": "code",
   "execution_count": 31,
   "id": "dc8f4847",
   "metadata": {},
   "outputs": [
    {
     "name": "stdout",
     "output_type": "stream",
     "text": [
      "You can relax today!\n"
     ]
    }
   ],
   "source": [
    "is_weekend = True  \n",
    "is_holiday = False  \n",
    "\n",
    "if is_weekend or is_holiday:  \n",
    "    print(\"You can relax today!\")  \n",
    "else:  \n",
    "    print(\"Time to get to work.\")"
   ]
  },
  {
   "cell_type": "markdown",
   "id": "da44e323",
   "metadata": {},
   "source": [
    "### 3.5 Nested Conditional Statements\n"
   ]
  },
  {
   "cell_type": "code",
   "execution_count": 32,
   "id": "7271e22a",
   "metadata": {},
   "outputs": [
    {
     "name": "stdout",
     "output_type": "stream",
     "text": [
      "The number is positive.\n",
      "The number is even.\n"
     ]
    }
   ],
   "source": [
    "num = 20  \n",
    "\n",
    "if num > 0:  \n",
    "    print(\"The number is positive.\")  \n",
    "    if num % 2 == 0:  \n",
    "        print(\"The number is even.\")  \n",
    "    else:  \n",
    "        print(\"The number is odd.\")  \n",
    "else:  \n",
    "    print(\"The number is negative.\")"
   ]
  },
  {
   "cell_type": "markdown",
   "id": "bb551ac0",
   "metadata": {},
   "source": [
    "## 4. Loops in Python: Looping Constructs (for, while)"
   ]
  },
  {
   "cell_type": "markdown",
   "id": "518625ba",
   "metadata": {},
   "source": [
    "### 4.1 The for Loop\n",
    "\n",
    "- A for loop in Python is used to iterate over a sequence (such as a list, tuple, dictionary, string, or range).\n",
    "- It allows you to execute a block of code for each item in the sequence.\n",
    "- The primary purpose of a for loop is to perform actions for every element in an iterable.\n",
    "- loops are used to execute a block of code repeatedly for a fixed number of times or until a certain condition is met as long as some condition is true."
   ]
  },
  {
   "cell_type": "markdown",
   "id": "5ffb7de3",
   "metadata": {},
   "source": [
    "#### 1. Iterating Over a Sequence:"
   ]
  },
  {
   "cell_type": "code",
   "execution_count": 33,
   "id": "111978ce",
   "metadata": {},
   "outputs": [
    {
     "name": "stdout",
     "output_type": "stream",
     "text": [
      "machine learning\n",
      "python\n",
      "NLP\n"
     ]
    }
   ],
   "source": [
    "courses = [\"machine learning\", \"python\", \"NLP\"]  \n",
    "for course in courses:  \n",
    "    print(course)"
   ]
  },
  {
   "cell_type": "markdown",
   "id": "2c2564cb",
   "metadata": {},
   "source": [
    "#### 2. Using Ranges:"
   ]
  },
  {
   "cell_type": "code",
   "execution_count": 34,
   "id": "ebbcdcd7",
   "metadata": {},
   "outputs": [
    {
     "name": "stdout",
     "output_type": "stream",
     "text": [
      "Iteration 1\n",
      "Iteration 2\n",
      "Iteration 3\n",
      "Iteration 4\n",
      "Iteration 5\n"
     ]
    }
   ],
   "source": [
    "for i in range(5):  \n",
    "    print(f\"Iteration {i + 1}\")"
   ]
  },
  {
   "cell_type": "markdown",
   "id": "ae285448",
   "metadata": {},
   "source": [
    "#### 3. Iterating with an Index:"
   ]
  },
  {
   "cell_type": "code",
   "execution_count": 35,
   "id": "9f544953",
   "metadata": {},
   "outputs": [
    {
     "name": "stdout",
     "output_type": "stream",
     "text": [
      "Color 0: red\n",
      "Color 1: green\n",
      "Color 2: blue\n"
     ]
    }
   ],
   "source": [
    "colors = [\"red\", \"green\", \"blue\"]  \n",
    "\n",
    "for index, color in enumerate(colors):  \n",
    "    print(f\"Color {index}: {color}\")"
   ]
  },
  {
   "cell_type": "markdown",
   "id": "72c76a03",
   "metadata": {},
   "source": [
    "## 4.2 The while Loop"
   ]
  },
  {
   "cell_type": "code",
   "execution_count": 36,
   "id": "9d5207a0",
   "metadata": {},
   "outputs": [
    {
     "name": "stdout",
     "output_type": "stream",
     "text": [
      "Count is 0.\n",
      "Count is 1.\n",
      "Count is 2.\n",
      "Count is 3.\n",
      "Count is 4.\n"
     ]
    }
   ],
   "source": [
    "count = 0  \n",
    "\n",
    "while count < 5:  \n",
    "    print(f\"Count is {count}.\")  \n",
    "    count += 1  # Increment count to avoid infinite lo"
   ]
  },
  {
   "cell_type": "markdown",
   "id": "af0c13c5",
   "metadata": {},
   "source": [
    "### When to Use while Loops"
   ]
  },
  {
   "cell_type": "markdown",
   "id": "237149e8",
   "metadata": {},
   "source": [
    "#### 1. Unknown Number of Iterations:"
   ]
  },
  {
   "cell_type": "code",
   "execution_count": 37,
   "id": "8e0b332c",
   "metadata": {},
   "outputs": [],
   "source": [
    "user_input = \"\"  \n",
    "while user_input != \"exit\":  \n",
    "    user_input = input(\"Type 'exit' to stop: \")"
   ]
  },
  {
   "cell_type": "markdown",
   "id": "912e92c0",
   "metadata": {},
   "source": [
    "#### 2. Condition-Based Loops:\n",
    "\n"
   ]
  },
  {
   "cell_type": "code",
   "execution_count": 38,
   "id": "8f656410",
   "metadata": {},
   "outputs": [
    {
     "name": "stdout",
     "output_type": "stream",
     "text": [
      "3\n",
      "2\n",
      "1\n",
      "Go!\n"
     ]
    }
   ],
   "source": [
    "import time\n",
    "\n",
    "count = 3  \n",
    "while count > 0:  \n",
    "    print(count)  \n",
    "    count -= 1\n",
    "    time.sleep(1)\n",
    "    \n",
    "print(\"Go!\")"
   ]
  },
  {
   "cell_type": "markdown",
   "id": "190a4824",
   "metadata": {},
   "source": [
    "#### 3. Event-Driven Loops:\n",
    "\n"
   ]
  },
  {
   "cell_type": "code",
   "execution_count": 39,
   "id": "f0dfc67d",
   "metadata": {},
   "outputs": [
    {
     "name": "stdout",
     "output_type": "stream",
     "text": [
      "Waiting for the system to be ready...\n",
      "System is ready!\n"
     ]
    }
   ],
   "source": [
    "is_ready = False  \n",
    "\n",
    "while not is_ready:  \n",
    "    print(\"Waiting for the system to be ready...\")  \n",
    "    # code to check if the system is ready  \n",
    "    # is_ready = check_system_status()  \n",
    "    break\n",
    "\n",
    "print(\"System is ready!\")"
   ]
  },
  {
   "cell_type": "markdown",
   "id": "d154b72f",
   "metadata": {},
   "source": [
    "## 4.3 Controlling Loop Execution\n"
   ]
  },
  {
   "cell_type": "markdown",
   "id": "cfbb2341",
   "metadata": {},
   "source": [
    "### `break`: Exits the loop immediately, regardless of the condition."
   ]
  },
  {
   "cell_type": "code",
   "execution_count": 40,
   "id": "e14b7a25",
   "metadata": {},
   "outputs": [
    {
     "name": "stdout",
     "output_type": "stream",
     "text": [
      "0\n",
      "1\n",
      "2\n",
      "3\n",
      "4\n"
     ]
    }
   ],
   "source": [
    "for number in range(10):  \n",
    "    if number == 5:  \n",
    "        break  \n",
    "    print(number)"
   ]
  },
  {
   "cell_type": "markdown",
   "id": "59dfb39c",
   "metadata": {},
   "source": [
    "### `continue`: Skips the current iteration and proceeds with the next iteration of the loop."
   ]
  },
  {
   "cell_type": "code",
   "execution_count": 41,
   "id": "acf354c2",
   "metadata": {},
   "outputs": [
    {
     "name": "stdout",
     "output_type": "stream",
     "text": [
      "0\n",
      "1\n",
      "3\n",
      "4\n"
     ]
    }
   ],
   "source": [
    "for number in range(5):  \n",
    "    if number == 2:  \n",
    "        continue  # Skip number 2  \n",
    "    print(number)"
   ]
  },
  {
   "cell_type": "markdown",
   "id": "8d4a36a0",
   "metadata": {},
   "source": [
    "## 4.4 Nested Loops\n"
   ]
  },
  {
   "cell_type": "code",
   "execution_count": 42,
   "id": "aa07631b",
   "metadata": {},
   "outputs": [
    {
     "name": "stdout",
     "output_type": "stream",
     "text": [
      "i: 0, j: 0\n",
      "i: 0, j: 1\n",
      "i: 1, j: 0\n",
      "i: 1, j: 1\n",
      "i: 2, j: 0\n",
      "i: 2, j: 1\n"
     ]
    }
   ],
   "source": [
    "for i in range(3):  \n",
    "    for j in range(2):  \n",
    "        print(f\"i: {i}, j: {j}\")"
   ]
  },
  {
   "cell_type": "markdown",
   "id": "81896d9c",
   "metadata": {},
   "source": [
    "## 5. Several advanced forms of the for loop in Python"
   ]
  },
  {
   "cell_type": "markdown",
   "id": "3b7d1869",
   "metadata": {},
   "source": [
    "### 5.1. For Loop with `zip()` Function\n",
    "\n",
    "The zip() function allows you to iterate over two or more iterable objects (like lists or tuples) in parallel.\n"
   ]
  },
  {
   "cell_type": "code",
   "execution_count": 43,
   "id": "f53e4570",
   "metadata": {},
   "outputs": [
    {
     "name": "stdout",
     "output_type": "stream",
     "text": [
      "Ebi is 34 years old.\n",
      "Ela is 30 years old.\n",
      "Alex is 51 years old.\n"
     ]
    }
   ],
   "source": [
    "names = [\"Ebi\", \"Ela\", \"Alex\"]  \n",
    "ages = [34, 30, 51]  \n",
    "\n",
    "for name, age in zip(names, ages):  \n",
    "    print(f\"{name} is {age} years old.\")"
   ]
  },
  {
   "cell_type": "markdown",
   "id": "f61af027",
   "metadata": {},
   "source": [
    "### 5.2. For Loop with `enumerate()` Function\n"
   ]
  },
  {
   "cell_type": "code",
   "execution_count": 44,
   "id": "fa264fde",
   "metadata": {},
   "outputs": [
    {
     "name": "stdout",
     "output_type": "stream",
     "text": [
      "0: BMW\n",
      "1: Honda\n",
      "2: Cadillac\n"
     ]
    }
   ],
   "source": [
    "cars = [\"BMW\", \"Honda\", \"Cadillac\"]  \n",
    "\n",
    "for index, car in enumerate(cars):  \n",
    "    print(f\"{index}: {car}\") "
   ]
  },
  {
   "cell_type": "markdown",
   "id": "342b1158",
   "metadata": {},
   "source": [
    "## 5.3. For Loop with Dictionary\n"
   ]
  },
  {
   "cell_type": "code",
   "execution_count": 45,
   "id": "6deff163",
   "metadata": {},
   "outputs": [
    {
     "name": "stdout",
     "output_type": "stream",
     "text": [
      "name is: Ebi\n",
      "age is: 34\n",
      "major is: Computer Science\n"
     ]
    }
   ],
   "source": [
    "student = {\"name\": \"Ebi\", \"age\": 34, \"major\": \"Computer Science\"}\n",
    "\n",
    "for k, v in student.items():\n",
    "    print(f'{k} is: {v}')"
   ]
  },
  {
   "cell_type": "markdown",
   "id": "77dc418d",
   "metadata": {},
   "source": [
    "## 5.4. For Loop in a Single Line"
   ]
  },
  {
   "cell_type": "code",
   "execution_count": 46,
   "id": "d4dcf48c",
   "metadata": {},
   "outputs": [
    {
     "name": "stdout",
     "output_type": "stream",
     "text": [
      "[0, 1, 4, 9, 16, 25, 36, 49, 64, 81]\n"
     ]
    }
   ],
   "source": [
    "squares = [x**2 for x in range(10)]  \n",
    "print(squares)"
   ]
  },
  {
   "cell_type": "markdown",
   "id": "36feb5c2",
   "metadata": {},
   "source": [
    "## 5.5. Adding an If Statement to List Comprehension\n"
   ]
  },
  {
   "cell_type": "code",
   "execution_count": 47,
   "id": "d1856d60",
   "metadata": {},
   "outputs": [
    {
     "name": "stdout",
     "output_type": "stream",
     "text": [
      "[0, 4, 16, 36, 64]\n"
     ]
    }
   ],
   "source": [
    "even_squares = [x**2 for x in range(10) if x % 2 == 0]  \n",
    "print(even_squares) "
   ]
  },
  {
   "cell_type": "markdown",
   "id": "209f7b1f",
   "metadata": {},
   "source": [
    "## 5.6. Nested For Loops\n"
   ]
  },
  {
   "cell_type": "code",
   "execution_count": 48,
   "id": "4859f18f",
   "metadata": {},
   "outputs": [
    {
     "name": "stdout",
     "output_type": "stream",
     "text": [
      "1 2 3 \n",
      "4 5 6 \n",
      "7 8 9 \n"
     ]
    }
   ],
   "source": [
    "matrix = [[1, 2, 3], [4, 5, 6], [7, 8, 9]]  \n",
    "\n",
    "for row in matrix:  \n",
    "    for num in row:  \n",
    "        print(num, end=' ')  \n",
    "    print()  # For newline after each row"
   ]
  },
  {
   "cell_type": "markdown",
   "id": "7b73e075",
   "metadata": {},
   "source": [
    "## 5.7. For Loop with filter()\n",
    "\n",
    "You can use the filter() function alongside a for loop to process only elements that meet a certain condition.\n"
   ]
  },
  {
   "cell_type": "code",
   "execution_count": 49,
   "id": "20f58805",
   "metadata": {},
   "outputs": [
    {
     "name": "stdout",
     "output_type": "stream",
     "text": [
      "2\n",
      "4\n",
      "6\n"
     ]
    }
   ],
   "source": [
    "numbers = [1, 2, 3, 4, 5, 6]  \n",
    "\n",
    "for even in filter(lambda x: x % 2 == 0, numbers):  \n",
    "    print(even)"
   ]
  }
 ],
 "metadata": {
  "kernelspec": {
   "display_name": "pytorch27",
   "language": "python",
   "name": "python3"
  },
  "language_info": {
   "codemirror_mode": {
    "name": "ipython",
    "version": 3
   },
   "file_extension": ".py",
   "mimetype": "text/x-python",
   "name": "python",
   "nbconvert_exporter": "python",
   "pygments_lexer": "ipython3",
   "version": "3.10.16"
  }
 },
 "nbformat": 4,
 "nbformat_minor": 5
}
