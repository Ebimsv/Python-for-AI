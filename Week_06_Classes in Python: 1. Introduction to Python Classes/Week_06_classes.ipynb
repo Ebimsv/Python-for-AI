{
 "cells": [
  {
   "cell_type": "markdown",
   "id": "734d9f14",
   "metadata": {},
   "source": [
    "# `__init__` Method\n",
    "In Python, the _`_init__` method is known as the constructor. It is automatically called when an object of a class is created, allowing the class to initialize its attributes and set up the object’s initial state. Using `__init__` provides a structured way to ensure that every instance of a class starts with the necessary attributes, making your code cleaner and more manageable.\n",
    "\n",
    "## Example without `__init__` method:\n",
    "\n",
    "If we don’t use `__init__`, we would need to set up attributes after creating an object, leading to a less organized approach.   \n",
    "Here's a simplified example where we define a Car class without an `__init__` method:"
   ]
  },
  {
   "cell_type": "code",
   "execution_count": 1,
   "id": "87e51509",
   "metadata": {},
   "outputs": [
    {
     "name": "stdout",
     "output_type": "stream",
     "text": [
      "My car is a 2022 Toyota Corolla.\n",
      "Engine started.\n"
     ]
    }
   ],
   "source": [
    "class Car:  \n",
    "    # Without __init__, directly defining attributes afterward  \n",
    "    def start_engine(self):  \n",
    "        status = \"Engine started.\"  # Local variable  \n",
    "        print(status)\n",
    "        \n",
    "# Creating an instance of Car  \n",
    "my_car = Car()  \n",
    "\n",
    "# Setting attributes directly after the instance is created  \n",
    "my_car.make = \"Toyota\"  \n",
    "my_car.model = \"Corolla\"  \n",
    "my_car.year = 2022  \n",
    "\n",
    "print(f\"My car is a {my_car.year} {my_car.make} {my_car.model}.\")  \n",
    "my_car.start_engine()"
   ]
  },
  {
   "cell_type": "markdown",
   "id": "d8ea81e9",
   "metadata": {},
   "source": [
    "## Example with `__init__` method:\n",
    "\n",
    "Using `__init__`, we can simplify initialization and ensure that all necessary attributes are set when the object is created.   \n",
    "Here’s the Car class with an `__init__` method:"
   ]
  },
  {
   "cell_type": "code",
   "execution_count": 2,
   "id": "f55450ce",
   "metadata": {},
   "outputs": [
    {
     "name": "stdout",
     "output_type": "stream",
     "text": [
      "My car is a 2022 Toyota Corolla.\n",
      "Engine started.\n"
     ]
    }
   ],
   "source": [
    "class Car:  \n",
    "    def __init__(self, make, model, year):  \n",
    "        self.make = make    # Instance attribute\n",
    "        self.model = model  # Instance attribute\n",
    "        self.year = year    # Instance attribute\n",
    "        \n",
    "    def start_engine(self):  \n",
    "        status = \"Engine started.\"  # Local variable  \n",
    "        print(status)\n",
    "        \n",
    "# Creating an instance of Car with attributes defined in __init__  \n",
    "my_car = Car(make=\"Toyota\", model=\"Corolla\", year=2022)  \n",
    "\n",
    "print(f\"My car is a {my_car.year} {my_car.make} {my_car.model}.\")  \n",
    "my_car.start_engine()"
   ]
  },
  {
   "cell_type": "markdown",
   "id": "8e7a6a41",
   "metadata": {},
   "source": [
    "# What is self and Why Do We Use It?\n",
    "In Python, self is a reference to the instance of the class that is being created or manipulated. It allows you to access attributes and methods of the class in a way that differentiates between instance attributes and local variables. By convention, self is used as the first parameter in instance methods, although you can technically name it anything else. However, using self is the standard convention in Python.\n",
    "\n",
    "Why Do We Use self?\n",
    "Distinguish Instance Attributes from Local Variables: Using self allows you to distinguish instance attributes from local variables defined within methods.\n",
    "Accessing Instance Attributes and Methods: self allows you to access other methods and attributes of the same object, enabling behavior and data encapsulation.\n",
    "Maintain State Across Method Calls: It helps maintain the state of an object as it retains different attributes throughout the life of that instance.\n",
    "## Example of self in a Class:"
   ]
  },
  {
   "cell_type": "code",
   "execution_count": 3,
   "id": "63b68d2a",
   "metadata": {},
   "outputs": [
    {
     "name": "stdout",
     "output_type": "stream",
     "text": [
      "Engine started.\n",
      "My car is a 2022 Toyota Corolla.\n"
     ]
    }
   ],
   "source": [
    "class Car:  \n",
    "    def __init__(self, make, model, year):  \n",
    "        self.make = make        # Instance attribute  \n",
    "        self.model = model      # Instance attribute  \n",
    "        self.year = year        # Instance attribute  \n",
    "\n",
    "    def start_engine(self):  \n",
    "        status = \"Engine started.\"  # Local variable  \n",
    "        print(status)  \n",
    "\n",
    "    def display_info(self):  \n",
    "        # Use self to access instance attributes  \n",
    "        print(f\"My car is a {self.year} {self.make} {self.model}.\")  \n",
    "\n",
    "# Creating an instance of Car  \n",
    "my_car = Car(make=\"Toyota\", model=\"Corolla\", year=2022)  \n",
    "\n",
    "# Calling methods  \n",
    "my_car.start_engine()      # Calling an instance method  \n",
    "my_car.display_info()      # Displaying the car info"
   ]
  },
  {
   "cell_type": "markdown",
   "id": "bef9b030",
   "metadata": {},
   "source": [
    "## For more information about self:\n",
    "In Python, the self parameter is a reference to the instance of a class and is used within methods to access instance attributes and methods. When you create an instance of a class and define methods that include self, you are allowing those methods to access the instance's data.\n",
    "\n",
    "The expression id(self) returns the unique identity of the instance represented by self in memory. When you see that id(self) and id(class_instance) are the same, it's an indication that self refers to the same object as class_instance.\n",
    "\n",
    "### Here’s a brief illustration:"
   ]
  },
  {
   "cell_type": "code",
   "execution_count": 4,
   "id": "b201656d",
   "metadata": {},
   "outputs": [
    {
     "name": "stdout",
     "output_type": "stream",
     "text": [
      "ID of instance: 132603698117648\n",
      "ID of self: 132603698117648\n"
     ]
    }
   ],
   "source": [
    "class MyClass:\n",
    "    def __init__(self, value):\n",
    "        self.value = value\n",
    "\n",
    "    def display_id(self):\n",
    "        print(f\"ID of self: {id(self)}\")\n",
    "\n",
    "\n",
    "# Create an instance of MyClass\n",
    "class_instance = MyClass(10)\n",
    "print(f\"ID of instance: {id(class_instance)}\")\n",
    "\n",
    "# Calling the method to check IDs\n",
    "class_instance.display_id()"
   ]
  },
  {
   "cell_type": "markdown",
   "id": "693d57f1",
   "metadata": {},
   "source": [
    "# Attributes (Variables) and Methods\n",
    "## I. Instance Attributes (Variables)\n",
    "Instance attributes are variables that are bound to an instance of a class. They are defined in the __init__ method, which is the constructor. Each instance of a class can have different values for its attributes.\n",
    "\n",
    "### Example:"
   ]
  },
  {
   "cell_type": "code",
   "execution_count": 5,
   "id": "ff08ffa5",
   "metadata": {},
   "outputs": [],
   "source": [
    "class Car:  \n",
    "    def __init__(self, make, model, year):  \n",
    "        self.make = make        # Instance attribute  \n",
    "        self.model = model      # Instance attribute  \n",
    "        self.year = year        # Instance attribute"
   ]
  },
  {
   "cell_type": "markdown",
   "id": "3364a43e",
   "metadata": {},
   "source": [
    "- In this example, each Car instance will have its own make, model, and year."
   ]
  },
  {
   "cell_type": "markdown",
   "id": "6fdd1495",
   "metadata": {},
   "source": [
    "## II. Instance Methods\n",
    "Instance methods are defined within the class and can manipulate the object’s attributes. They always take at least one parameter: self, which refers to the instance calling the method.\n",
    "\n",
    "### Example:"
   ]
  },
  {
   "cell_type": "code",
   "execution_count": 6,
   "id": "7cd59306",
   "metadata": {},
   "outputs": [],
   "source": [
    "def start_engine(self):  \n",
    "        status = \"Engine started.\"  # Local variable  \n",
    "        print(status)  \n",
    "\n",
    "def display_info(self):  \n",
    "        # Use self to access instance attributes  \n",
    "        print(f\"My car is a {self.year} {self.make} {self.model}.\")"
   ]
  },
  {
   "cell_type": "markdown",
   "id": "76da3331",
   "metadata": {},
   "source": [
    "## III. Accessing and Modifying Attributes\n",
    "You can access and modify instance attributes directly through the self parameter inside any instance method. To change an attribute, simply assign a new value to it.\n",
    "\n",
    "### Example of accessing and modifying:"
   ]
  },
  {
   "cell_type": "code",
   "execution_count": 7,
   "id": "95ca31e1",
   "metadata": {},
   "outputs": [],
   "source": [
    "def update_model(self, new_model):  \n",
    "    self.model = new_model    # Modifying the instance attribute"
   ]
  },
  {
   "cell_type": "markdown",
   "id": "ca43854b",
   "metadata": {},
   "source": [
    "## IV. Practical Exercise: Create a Simple Class with Attributes and Methods\n",
    "Objective: Create a class representing a simple object (e.g., a Car with attributes and methods to interact with the object).\n",
    "\n",
    "Step-by-step Instructions:\n",
    "1. Define the Class:\n",
    "    - Create a class named Car.\n",
    "    - In the `__init__` method, define attributes: make, model, and year\n",
    "\n",
    "2. Add Instance Methods:\n",
    "    - Create a method called start_engine that prints a message indicating the engine has started.\n",
    "    - Create another method called display_info that prints the car's details.\n",
    "\n",
    "3. Create an Instance:\n",
    "    - Instantiate the Car class with specific values for make, model, and year.\n",
    "\n",
    "4. Call the Methods:\n",
    "    - Call the start_engine and display_info methods on the instance to see the results.\n",
    "\n",
    "### Example Implementation:\n",
    "Here’s how the complete Car class can look, along with examples of creating an instance and calling the methods:"
   ]
  },
  {
   "cell_type": "code",
   "execution_count": 8,
   "id": "6cd73d59",
   "metadata": {},
   "outputs": [
    {
     "name": "stdout",
     "output_type": "stream",
     "text": [
      "Engine started.\n",
      "My car is a 2022 Toyota Corolla.\n"
     ]
    }
   ],
   "source": [
    "class Car:  \n",
    "    def __init__(self, make, model, year):  \n",
    "        self.make = make         # Instance attribute  \n",
    "        self.model = model       # Instance attribute  \n",
    "        self.year = year         # Instance attribute  \n",
    "    \n",
    "    def start_engine(self):  \n",
    "        status = \"Engine started.\"  # Local variable  \n",
    "        print(status)               # Prints the engine status  \n",
    "\n",
    "    def display_info(self):  \n",
    "        # Print car information using instance attributes  \n",
    "        print(f\"My car is a {self.year} {self.make} {self.model}.\")  \n",
    "\n",
    "\n",
    "# Creating an instance of Car  \n",
    "my_car = Car(make=\"Toyota\", model=\"Corolla\", year=2022)  \n",
    "\n",
    "# Calling methods  \n",
    "my_car.start_engine()      # Output: Engine started.  \n",
    "my_car.display_info()      # Output: My car is a 2022 Toyota Corolla."
   ]
  },
  {
   "cell_type": "markdown",
   "id": "47d42f7d",
   "metadata": {},
   "source": [
    "# Class Variables and Instance Variables\n",
    "## Difference Between Class and Instance Variables\n",
    "\n",
    "Class Variables and Instance Variables are two types of variables used in Python classes, and they serve different purposes.\n",
    "\n",
    "- Class Variables are shared by all instances of a class. They are defined within the class body, outside of any methods, and are usually used for constants or values that should be the same across all instances.\n",
    "- Instance Variables, on the other hand, are specific to each instance of a class. They are defined inside the __init__ method (the constructor) and can have different values for each object created from the class. Each instance of the class has its own copy of these variables.\n",
    "\n",
    "### Example of Class and Instance Variables"
   ]
  },
  {
   "cell_type": "code",
   "execution_count": 9,
   "id": "07ab80d4",
   "metadata": {},
   "outputs": [
    {
     "name": "stdout",
     "output_type": "stream",
     "text": [
      "2022 Toyota Corolla\n",
      "2023 Honda Civic\n",
      "Total cars created: 3\n"
     ]
    }
   ],
   "source": [
    "class Car:  \n",
    "    # Class variable to track the number of cars created  \n",
    "    number_of_cars = 0  \n",
    "\n",
    "    def __init__(self, make, model, year):  \n",
    "        self.make = make          # Instance variable  \n",
    "        self.model = model        # Instance variable  \n",
    "        self.year = year          # Instance variable  \n",
    "\n",
    "        # Increment the class variable whenever a new instance is created  \n",
    "        Car.number_of_cars += 1  \n",
    "\n",
    "    def display_info(self):  \n",
    "        \"\"\"Display the information of the car.\"\"\"  \n",
    "        print(f\"{self.year} {self.make} {self.model}\")  \n",
    "\n",
    "    @classmethod  \n",
    "    def get_number_of_cars(cls):  \n",
    "        \"\"\"Class method to return the number of car instances created.\"\"\"  \n",
    "        return cls.number_of_cars  \n",
    "\n",
    "# Creating instances of Car  \n",
    "car1 = Car(\"Toyota\", \"Corolla\", 2022)  \n",
    "car2 = Car(\"Honda\", \"Civic\", 2023)  \n",
    "car3 = Car(\"Ford\", \"Mustang\", 2021)  \n",
    "\n",
    "# Displaying information about individual cars  \n",
    "car1.display_info()  # Output: \"2022 Toyota Corolla\"  \n",
    "car2.display_info()  # Output: \"2023 Honda Civic\"  \n",
    "\n",
    "# Accessing the class variable to get the number of cars created  \n",
    "print(f\"Total cars created: {Car.get_number_of_cars()}\")  \n",
    "# Output: Total cars created: 3"
   ]
  },
  {
   "cell_type": "markdown",
   "id": "7986d0cc",
   "metadata": {},
   "source": [
    "## Best Practices\n",
    "\n",
    "- Use class variables for attributes that are shared across all instances.\n",
    "- Use instance variables for attributes that are unique to each instance.\n",
    "- Access class variables using the class name (Car.get_number_of_cars()) to emphasize that they are shared across all instances."
   ]
  },
  {
   "cell_type": "code",
   "execution_count": null,
   "id": "51edac85",
   "metadata": {},
   "outputs": [],
   "source": []
  }
 ],
 "metadata": {
  "kernelspec": {
   "display_name": "llms",
   "language": "python",
   "name": "python3"
  },
  "language_info": {
   "codemirror_mode": {
    "name": "ipython",
    "version": 3
   },
   "file_extension": ".py",
   "mimetype": "text/x-python",
   "name": "python",
   "nbconvert_exporter": "python",
   "pygments_lexer": "ipython3",
   "version": "3.11.13"
  }
 },
 "nbformat": 4,
 "nbformat_minor": 5
}
