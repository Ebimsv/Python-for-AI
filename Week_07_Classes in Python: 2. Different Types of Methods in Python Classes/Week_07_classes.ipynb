{
 "cells": [
  {
   "cell_type": "markdown",
   "id": "f07d2b7b",
   "metadata": {},
   "source": [
    "# Week 7-Classes in Python: 2. Different Types of Methods in Python Classes"
   ]
  },
  {
   "cell_type": "markdown",
   "id": "7c32276b",
   "metadata": {},
   "source": [
    "## 1. Introduction to Python Classes and Methods\n",
    "Classes are the foundation of Object-Oriented Programming (OOP) in Python. They define blueprints for objects, encapsulating data (attributes) and behavior (methods).\n",
    "\n",
    "Methods in Python are functions defined inside a class, and they provide behavior for objects of that class. Understanding the nuances of each method type allows developers to design effective object-oriented systems.\n",
    "\n",
    "Example: Defining a Car Class\n",
    "Here’s a simple Car class that we will enhance throughout this tutorial:"
   ]
  },
  {
   "cell_type": "code",
   "execution_count": 1,
   "id": "aec003d1",
   "metadata": {},
   "outputs": [],
   "source": [
    "class Car:\n",
    "    def __init__(self, brand, model, year, mileage=0):\n",
    "        self.brand = brand\n",
    "        self.model = model\n",
    "        self.year = year\n",
    "        self.mileage = mileage"
   ]
  },
  {
   "cell_type": "markdown",
   "id": "63875308",
   "metadata": {},
   "source": [
    "## 2. Instance Methods\n",
    "Instance methods are the most common type of methods in Python classes. They operate on instance-level data and can modify the state of a specific object.\n",
    "\n",
    "Key Features\n",
    "- Require self as the first parameter.\n",
    "- Operate on instance attributes.\n",
    "- Can call other methods within the same class.\n",
    "\n",
    "Example: Adding an Instance Method\n",
    "We’ll add a method to update the mileage of a car:"
   ]
  },
  {
   "cell_type": "code",
   "execution_count": 2,
   "id": "0557ff3c",
   "metadata": {},
   "outputs": [],
   "source": [
    "class Car:\n",
    "    def __init__(self, brand, model, year, mileage=0):\n",
    "        self.brand = brand\n",
    "        self.model = model\n",
    "        self.year = year\n",
    "        self.mileage = mileage\n",
    "\n",
    "    def drive(self, distance):\n",
    "        \"\"\"Increase mileage by a specified distance.\"\"\"\n",
    "        self.mileage += distance\n",
    "        return f\"The car has been driven {distance} km. Total mileage: {self.mileage} km.\""
   ]
  },
  {
   "cell_type": "markdown",
   "id": "d5a77e30",
   "metadata": {},
   "source": [
    "### Usage:\n"
   ]
  },
  {
   "cell_type": "code",
   "execution_count": 4,
   "id": "373ec602",
   "metadata": {},
   "outputs": [
    {
     "name": "stdout",
     "output_type": "stream",
     "text": [
      "The car has been driven 100 km. Total mileage: 100 km.\n"
     ]
    }
   ],
   "source": [
    "my_car = Car(\"Toyota\", \"Corolla\", 2020)\n",
    "print(my_car.drive(100))  "
   ]
  },
  {
   "cell_type": "markdown",
   "id": "0254be77",
   "metadata": {},
   "source": [
    "## 3. Class Methods\n",
    "Class methods operate on the class itself, rather than any specific instance. They are defined using the @classmethod decorator.\n",
    "\n",
    "### Key Features\n",
    "- Require cls as the first parameter.\n",
    "- Often used to create factory methods or manipulate class-level data.\n",
    "- Class methods are defined using the @classmethod decorator.\n",
    "\n",
    "### Use Cases:\n",
    "- Methods that need to operate on class-level data that is shared among all instances.\n",
    "- They are useful for cases where you want to affect all instances of the class, as they can modify class variables.\n",
    "\n",
    "\n",
    "Example: Adding a Factory Method\n",
    "Let’s add a factory method to create a Car from a string:"
   ]
  },
  {
   "cell_type": "code",
   "execution_count": 16,
   "id": "d89a08ad",
   "metadata": {},
   "outputs": [],
   "source": [
    "class Car:\n",
    "    def __init__(self, brand, model, year, mileage=0):\n",
    "        self.brand = brand\n",
    "        self.model = model\n",
    "        self.year = year\n",
    "        self.mileage = mileage\n",
    "\n",
    "    def drive(self, distance):\n",
    "        \"\"\"Increase mileage by a specified distance.\"\"\"\n",
    "        self.mileage += distance\n",
    "        return f\"The car has been driven {distance} km. Total mileage: {self.mileage} km.\"\n",
    "    \n",
    "    @classmethod\n",
    "    def from_string(cls, car_str):\n",
    "        \"\"\"Create a Car instance from a string.\"\"\"\n",
    "        brand, model, year = car_str.split(\"-\")\n",
    "        return cls(brand, model, int(year))"
   ]
  },
  {
   "cell_type": "markdown",
   "id": "e05e8223",
   "metadata": {},
   "source": [
    "### Usage:"
   ]
  },
  {
   "cell_type": "code",
   "execution_count": 17,
   "id": "d215e3d7",
   "metadata": {},
   "outputs": [
    {
     "name": "stdout",
     "output_type": "stream",
     "text": [
      "Honda Civic 2019\n"
     ]
    }
   ],
   "source": [
    "car_data = \"Honda-Civic-2019\"\n",
    "new_car = Car.from_string(car_data)\n",
    "print(new_car.brand, new_car.model, new_car.year)  "
   ]
  },
  {
   "cell_type": "markdown",
   "id": "3100f130",
   "metadata": {},
   "source": [
    "## 4. Static Methods\n",
    "Static methods are utility methods that don’t depend on the class or instance. They are defined using the @staticmethod decorator.\n",
    "\n",
    "### Key Features\n",
    "- Don’t take self or cls as parameters.\n",
    "- Useful for functions that logically belong to the class but don’t modify its state.\n",
    "- A static method is a method that does not operate on an instance of the class or the class itself. It is defined using the `@staticmethod` decorator.\n",
    "- Class Namespace: While they behave like regular functions, static methods reside in the class’s namespace, allowing for logical organization within the class."
   ]
  },
  {
   "cell_type": "code",
   "execution_count": 18,
   "id": "af8f89ec",
   "metadata": {},
   "outputs": [],
   "source": [
    "class Car:\n",
    "    def __init__(self, brand, model, year, mileage=0):\n",
    "        self.brand = brand\n",
    "        self.model = model\n",
    "        self.year = year\n",
    "        self.mileage = mileage\n",
    "\n",
    "    def drive(self, distance):\n",
    "        \"\"\"Increase mileage by a specified distance.\"\"\"\n",
    "        self.mileage += distance\n",
    "        return f\"The car has been driven {distance} km. Total mileage: {self.mileage} km.\"\n",
    "    \n",
    "    @classmethod\n",
    "    def from_string(cls, car_str):\n",
    "        \"\"\"Create a Car instance from a string.\"\"\"\n",
    "        brand, model, year = car_str.split(\"-\")\n",
    "        return cls(brand, model, int(year))\n",
    "    \n",
    "    @staticmethod\n",
    "    def is_vintage(year):\n",
    "        \"\"\"Check if a car is considered vintage (older than 25 years).\"\"\"\n",
    "        return 2024 - year > 25"
   ]
  },
  {
   "cell_type": "markdown",
   "id": "5724b6d6",
   "metadata": {},
   "source": [
    "### Usage:"
   ]
  },
  {
   "cell_type": "code",
   "execution_count": 19,
   "id": "e17c1852",
   "metadata": {},
   "outputs": [
    {
     "name": "stdout",
     "output_type": "stream",
     "text": [
      "True\n",
      "False\n"
     ]
    }
   ],
   "source": [
    "print(Car.is_vintage(1990))\n",
    "print(Car.is_vintage(2010))"
   ]
  },
  {
   "cell_type": "markdown",
   "id": "b6ef8104",
   "metadata": {},
   "source": [
    "### classmethod vs. staticmethod\n",
    "\n",
    "Here’s a simple example that uses both classmethod and staticmethod in Python.\n",
    "\n",
    "Let’s say we have a Vehicle class, and we want to create a method to calculate the total number of vehicles created and another method to calculate the speed of a vehicle given its distance and time."
   ]
  },
  {
   "cell_type": "code",
   "execution_count": 20,
   "id": "715057ff",
   "metadata": {},
   "outputs": [
    {
     "name": "stdout",
     "output_type": "stream",
     "text": [
      "Total vehicles created: 3\n",
      "Speed: 50.0 km/h\n"
     ]
    }
   ],
   "source": [
    "class Vehicle:  \n",
    "    # Class attribute to keep track of total vehicles\n",
    "    total_vehicles = 0  \n",
    "    \n",
    "    def __init__(self, brand, model):  \n",
    "        self.brand = brand  \n",
    "        self.model = model  \n",
    "        Vehicle.total_vehicles += 1  # Increment total vehicles count  \n",
    "\n",
    "    @classmethod  \n",
    "    def get_total_vehicles(cls):  \n",
    "        \"\"\"Return the total number of vehicles created.\"\"\"  \n",
    "        return cls.total_vehicles  \n",
    "\n",
    "    @staticmethod  \n",
    "    def calculate_speed(distance, time):  \n",
    "        \"\"\"Calculate the speed of a vehicle given distance and time.\"\"\"  \n",
    "        if time == 0:  \n",
    "            return 0  # Avoid division by zero  \n",
    "        return distance / time  \n",
    "\n",
    "# Create some vehicle instances  \n",
    "car1  = Vehicle(\"Toyota\", \"Corolla\")  \n",
    "car2  = Vehicle(\"Honda\", \"Civic\")  \n",
    "truck = Vehicle(\"Ford\", \"F-150\")  \n",
    "\n",
    "# Use `class method` to get total vehicles  \n",
    "print(f\"Total vehicles created: {Vehicle.get_total_vehicles()}\")  \n",
    "\n",
    "# Use `static method` to calculate speed  \n",
    "distance = 100  # in km  \n",
    "time = 2        # in hours  \n",
    "speed = Vehicle.calculate_speed(distance, time)  \n",
    "print(f\"Speed: {speed} km/h\")"
   ]
  },
  {
   "cell_type": "markdown",
   "id": "41920269",
   "metadata": {},
   "source": [
    "## 5. Magic Methods (Dunder Methods)\n",
    "Magic methods (also called dunder methods because they are surrounded by double underscores) allow you to define the behavior of your class with built-in Python operations.\n",
    "\n",
    "Key Features\n",
    "- Provide hooks into Python’s syntax (e.g., `__str__`, `__add__`, `__eq__`).\n",
    "- Enhance readability and usability of custom classes.\n",
    "\n",
    "Example: Overriding `__str__` and `__eq__`\n",
    "Let’s override the string representation (`__str__`) and equality (`__eq__`) methods:\n"
   ]
  },
  {
   "cell_type": "code",
   "execution_count": 23,
   "id": "d8a06ed4",
   "metadata": {},
   "outputs": [],
   "source": [
    "class Car:\n",
    "    def __init__(self, brand, model, year, mileage=0):\n",
    "        self.brand = brand\n",
    "        self.model = model\n",
    "        self.year = year\n",
    "        self.mileage = mileage\n",
    "\n",
    "    def drive(self, distance):\n",
    "        \"\"\"Increase mileage by a specified distance.\"\"\"\n",
    "        self.mileage += distance\n",
    "        return f\"The car has been driven {distance} km. Total mileage: {self.mileage} km.\"\n",
    "    \n",
    "    @classmethod\n",
    "    def from_string(cls, car_str):\n",
    "        \"\"\"Create a Car instance from a string.\"\"\"\n",
    "        brand, model, year = car_str.split(\"-\")\n",
    "        return cls(brand, model, int(year))\n",
    "    \n",
    "    @staticmethod\n",
    "    def is_vintage(year):\n",
    "        \"\"\"Check if a car is considered vintage (older than 25 years).\"\"\"\n",
    "        return 2024 - year > 25\n",
    "\n",
    "    def __str__(self):\n",
    "        return f\"{self.brand} {self.model} ({self.year}) with {self.mileage} km\"\n",
    "\n",
    "    def __eq__(self, other):\n",
    "        return self.brand == other.brand and self.model == other.model and self.year == other.year"
   ]
  },
  {
   "cell_type": "code",
   "execution_count": 25,
   "id": "4f2f5745",
   "metadata": {},
   "outputs": [
    {
     "name": "stdout",
     "output_type": "stream",
     "text": [
      "Toyota Corolla (2020) with 15000 km\n",
      "True\n"
     ]
    }
   ],
   "source": [
    "car1 = Car(\"Toyota\", \"Corolla\", 2020, 15000)\n",
    "car2 = Car(\"Toyota\", \"Corolla\", 2020, 20000)\n",
    "\n",
    "print(car1)  \n",
    "print(car1 == car2) "
   ]
  },
  {
   "cell_type": "markdown",
   "id": "c0f28f67",
   "metadata": {},
   "source": [
    "## 6. Property Methods\n",
    "Property methods allow controlled access to instance attributes, making them more versatile than direct attribute access. They are defined using the `@property` decorator.\n",
    "\n",
    "Key Features:\n",
    "- Enable getters, setters, and deleters for attributes.\n",
    "- Useful for validating or formatting data.\n",
    "\n",
    "Example: Adding a Property Method for Mileage\n",
    "We’ll add a property for mileage that prevents setting a lower mileage:"
   ]
  },
  {
   "cell_type": "code",
   "execution_count": 48,
   "id": "07a1fb54",
   "metadata": {},
   "outputs": [],
   "source": [
    "class Car:\n",
    "    def __init__(self, brand, model, year, mileage=0):\n",
    "        self.brand = brand\n",
    "        self.model = model\n",
    "        self.year = year\n",
    "        self._mileage = 0         # internal attribute\n",
    "        self.mileage = mileage    # triggers setter\n",
    "\n",
    "    @property\n",
    "    def mileage(self):\n",
    "        return self._mileage\n",
    "\n",
    "    @mileage.setter\n",
    "    def mileage(self, value):\n",
    "        if value < self._mileage:\n",
    "            raise ValueError(\"Mileage cannot be decreased!\")\n",
    "        self._mileage = value\n"
   ]
  },
  {
   "cell_type": "code",
   "execution_count": 56,
   "id": "07791b57",
   "metadata": {},
   "outputs": [
    {
     "name": "stdout",
     "output_type": "stream",
     "text": [
      "The car mileage is: 5000\n",
      "The car mileage is: 6000\n"
     ]
    }
   ],
   "source": [
    "car = Car(\"BMW\", \"X5\", 2022, 5000)\n",
    "print(\"The car mileage is:\", car.mileage)     # ✅ Output: 5000\n",
    "car.mileage = 6000                            # ✅ OK\n",
    "print(\"The car mileage is:\", car.mileage)     # ✅ Output: 6000"
   ]
  },
  {
   "cell_type": "code",
   "execution_count": 52,
   "id": "65b05a41",
   "metadata": {},
   "outputs": [
    {
     "ename": "ValueError",
     "evalue": "Mileage cannot be decreased!",
     "output_type": "error",
     "traceback": [
      "\u001b[31m---------------------------------------------------------------------------\u001b[39m",
      "\u001b[31mValueError\u001b[39m                                Traceback (most recent call last)",
      "\u001b[36mCell\u001b[39m\u001b[36m \u001b[39m\u001b[32mIn[52]\u001b[39m\u001b[32m, line 1\u001b[39m\n\u001b[32m----> \u001b[39m\u001b[32m1\u001b[39m \u001b[43mcar\u001b[49m\u001b[43m.\u001b[49m\u001b[43mmileage\u001b[49m = \u001b[32m4000\u001b[39m     \u001b[38;5;66;03m# ❌ Raises ValueError\u001b[39;00m\n",
      "\u001b[36mCell\u001b[39m\u001b[36m \u001b[39m\u001b[32mIn[48]\u001b[39m\u001b[32m, line 16\u001b[39m, in \u001b[36mCar.mileage\u001b[39m\u001b[34m(self, value)\u001b[39m\n\u001b[32m     13\u001b[39m \u001b[38;5;129m@mileage\u001b[39m.setter\n\u001b[32m     14\u001b[39m \u001b[38;5;28;01mdef\u001b[39;00m\u001b[38;5;250m \u001b[39m\u001b[34mmileage\u001b[39m(\u001b[38;5;28mself\u001b[39m, value):\n\u001b[32m     15\u001b[39m     \u001b[38;5;28;01mif\u001b[39;00m value < \u001b[38;5;28mself\u001b[39m._mileage:\n\u001b[32m---> \u001b[39m\u001b[32m16\u001b[39m         \u001b[38;5;28;01mraise\u001b[39;00m \u001b[38;5;167;01mValueError\u001b[39;00m(\u001b[33m\"\u001b[39m\u001b[33mMileage cannot be decreased!\u001b[39m\u001b[33m\"\u001b[39m)\n\u001b[32m     17\u001b[39m     \u001b[38;5;28mself\u001b[39m._mileage = value\n",
      "\u001b[31mValueError\u001b[39m: Mileage cannot be decreased!"
     ]
    }
   ],
   "source": [
    "car.mileage = 4000     # ❌ Raises ValueError"
   ]
  },
  {
   "cell_type": "code",
   "execution_count": null,
   "id": "d5e4fe31",
   "metadata": {},
   "outputs": [],
   "source": []
  }
 ],
 "metadata": {
  "kernelspec": {
   "display_name": "llms",
   "language": "python",
   "name": "python3"
  },
  "language_info": {
   "codemirror_mode": {
    "name": "ipython",
    "version": 3
   },
   "file_extension": ".py",
   "mimetype": "text/x-python",
   "name": "python",
   "nbconvert_exporter": "python",
   "pygments_lexer": "ipython3",
   "version": "3.11.13"
  }
 },
 "nbformat": 4,
 "nbformat_minor": 5
}
